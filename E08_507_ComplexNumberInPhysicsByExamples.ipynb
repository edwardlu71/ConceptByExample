{
 "cells": [
  {
   "cell_type": "markdown",
   "metadata": {},
   "source": [
    "# Complex Number in Physics By Examples\n",
    "[Edward Lu](https://github.com/edwardlu71/notebooks)\n",
    "\n",
    "I believe Quantum theory is a temporary solution. We haven't got to the bottom yet. We have to count on probablity just because it's too hard to imagine how the spin in 4 dimension looks like. There is geometric reason behind with great certainty."
   ]
  },
  {
   "cell_type": "code",
   "execution_count": 1,
   "metadata": {},
   "outputs": [],
   "source": [
    "%display latex\n",
    "%matplotlib inline\n",
    "import matplotlib.pyplot as plt\n",
    "import numpy as np\n",
    "from sympy import init_printing, symbols, simplify, expand, diff, solve\n",
    "from sympy.physics.quantum import *\n",
    "from IPython.display import display\n",
    "init_printing()"
   ]
  },
  {
   "cell_type": "code",
   "execution_count": 2,
   "metadata": {},
   "outputs": [
    {
     "data": {
      "text/html": [
       "<html><script type=\"math/tex; mode=display\">\\newcommand{\\Bold}[1]{\\mathbf{#1}}\\left(a_{1}, a_{2}, b_{1}, b_{2}\\right)</script></html>"
      ],
      "text/plain": [
       "(a_1, a_2, b_1, b_2)"
      ]
     },
     "execution_count": 2,
     "metadata": {},
     "output_type": "execute_result"
    }
   ],
   "source": [
    "var('a_1 a_2 b_1 b_2', domain='real')"
   ]
  },
  {
   "cell_type": "markdown",
   "metadata": {},
   "source": [
    "## Complex Numbers Are Matrices"
   ]
  },
  {
   "cell_type": "code",
   "execution_count": 3,
   "metadata": {},
   "outputs": [
    {
     "data": {
      "text/html": [
       "<html><script type=\"math/tex; mode=display\">\\newcommand{\\Bold}[1]{\\mathbf{#1}}a_{1} + i \\, b_{1}</script></html>"
      ],
      "text/plain": [
       "a_1 + I*b_1"
      ]
     },
     "metadata": {},
     "output_type": "display_data"
    },
    {
     "data": {
      "text/html": [
       "<html><script type=\"math/tex; mode=display\">\\newcommand{\\Bold}[1]{\\mathbf{#1}}a_{2} + i \\, b_{2}</script></html>"
      ],
      "text/plain": [
       "a_2 + I*b_2"
      ]
     },
     "metadata": {},
     "output_type": "display_data"
    }
   ],
   "source": [
    "# define two complex numbers\n",
    "c1 = a_1 + I * b_1\n",
    "c2 = a_2 + I * b_2\n",
    "display(c1, c2)"
   ]
  },
  {
   "cell_type": "markdown",
   "metadata": {},
   "source": [
    "### A Complex Number Equals to A Special 2x2 Matrix"
   ]
  },
  {
   "cell_type": "code",
   "execution_count": 4,
   "metadata": {},
   "outputs": [
    {
     "data": {
      "text/html": [
       "<html><script type=\"math/tex; mode=display\">\\newcommand{\\Bold}[1]{\\mathbf{#1}}\\left(\\begin{array}{rr}\n",
       "1 & 0 \\\\\n",
       "0 & 1\n",
       "\\end{array}\\right)</script></html>"
      ],
      "text/plain": [
       "[1 0]\n",
       "[0 1]"
      ]
     },
     "metadata": {},
     "output_type": "display_data"
    },
    {
     "data": {
      "text/html": [
       "<html><script type=\"math/tex; mode=display\">\\newcommand{\\Bold}[1]{\\mathbf{#1}}\\left(\\begin{array}{rr}\n",
       "0 & -1 \\\\\n",
       "1 & 0\n",
       "\\end{array}\\right)</script></html>"
      ],
      "text/plain": [
       "[ 0 -1]\n",
       "[ 1  0]"
      ]
     },
     "metadata": {},
     "output_type": "display_data"
    }
   ],
   "source": [
    "# base matrices\n",
    "re = Matrix([[1, 0], [0, 1]])\n",
    "im = Matrix([[0, -1], [1, 0]])\n",
    "\n",
    "display (re, im)"
   ]
  },
  {
   "cell_type": "code",
   "execution_count": 5,
   "metadata": {},
   "outputs": [
    {
     "data": {
      "text/html": [
       "<html><script type=\"math/tex; mode=display\">\\newcommand{\\Bold}[1]{\\mathbf{#1}}\\left(\\begin{array}{rr}\n",
       "a_{1} & -b_{1} \\\\\n",
       "b_{1} & a_{1}\n",
       "\\end{array}\\right)</script></html>"
      ],
      "text/plain": [
       "[ a_1 -b_1]\n",
       "[ b_1  a_1]"
      ]
     },
     "metadata": {},
     "output_type": "display_data"
    },
    {
     "data": {
      "text/html": [
       "<html><script type=\"math/tex; mode=display\">\\newcommand{\\Bold}[1]{\\mathbf{#1}}\\left(\\begin{array}{rr}\n",
       "a_{2} & -b_{2} \\\\\n",
       "b_{2} & a_{2}\n",
       "\\end{array}\\right)</script></html>"
      ],
      "text/plain": [
       "[ a_2 -b_2]\n",
       "[ b_2  a_2]"
      ]
     },
     "metadata": {},
     "output_type": "display_data"
    }
   ],
   "source": [
    "# c1, c2 represented in matrix form\n",
    "m1 = a_1*re + b_1*im\n",
    "m2 = a_2*re + b_2*im\n",
    "display(m1, m2)"
   ]
  },
  {
   "cell_type": "code",
   "execution_count": 6,
   "metadata": {},
   "outputs": [
    {
     "data": {
      "text/html": [
       "<html><script type=\"math/tex; mode=display\">\\newcommand{\\Bold}[1]{\\mathbf{#1}}a_{1} + a_{2}</script></html>"
      ],
      "text/plain": [
       "a_1 + a_2"
      ]
     },
     "metadata": {},
     "output_type": "display_data"
    },
    {
     "data": {
      "text/html": [
       "<html><script type=\"math/tex; mode=display\">\\newcommand{\\Bold}[1]{\\mathbf{#1}}b_{1} + b_{2}</script></html>"
      ],
      "text/plain": [
       "b_1 + b_2"
      ]
     },
     "metadata": {},
     "output_type": "display_data"
    },
    {
     "data": {
      "text/html": [
       "<html><script type=\"math/tex; mode=display\">\\newcommand{\\Bold}[1]{\\mathbf{#1}}\\left(\\begin{array}{rr}\n",
       "a_{1} + a_{2} & -b_{1} - b_{2} \\\\\n",
       "b_{1} + b_{2} & a_{1} + a_{2}\n",
       "\\end{array}\\right)</script></html>"
      ],
      "text/plain": [
       "[ a_1 + a_2 -b_1 - b_2]\n",
       "[ b_1 + b_2  a_1 + a_2]"
      ]
     },
     "metadata": {},
     "output_type": "display_data"
    },
    {
     "data": {
      "text/html": [
       "<html><script type=\"math/tex; mode=display\">\\newcommand{\\Bold}[1]{\\mathbf{#1}}\\left(\\begin{array}{rr}\n",
       "a_{1} + a_{2} & -b_{1} - b_{2} \\\\\n",
       "b_{1} + b_{2} & a_{1} + a_{2}\n",
       "\\end{array}\\right)</script></html>"
      ],
      "text/plain": [
       "[ a_1 + a_2 -b_1 - b_2]\n",
       "[ b_1 + b_2  a_1 + a_2]"
      ]
     },
     "metadata": {},
     "output_type": "display_data"
    }
   ],
   "source": [
    "# +\n",
    "\n",
    "c = c1 + c2\n",
    "display(c.real(), c.imag())\n",
    "display(m1+m2)\n",
    "display(c.real()*re+c.imag()*im)"
   ]
  },
  {
   "cell_type": "code",
   "execution_count": 7,
   "metadata": {},
   "outputs": [
    {
     "data": {
      "text/html": [
       "<html><script type=\"math/tex; mode=display\">\\newcommand{\\Bold}[1]{\\mathbf{#1}}a_{1} a_{2} - b_{1} b_{2}</script></html>"
      ],
      "text/plain": [
       "a_1*a_2 - b_1*b_2"
      ]
     },
     "metadata": {},
     "output_type": "display_data"
    },
    {
     "data": {
      "text/html": [
       "<html><script type=\"math/tex; mode=display\">\\newcommand{\\Bold}[1]{\\mathbf{#1}}a_{2} b_{1} + a_{1} b_{2}</script></html>"
      ],
      "text/plain": [
       "a_2*b_1 + a_1*b_2"
      ]
     },
     "metadata": {},
     "output_type": "display_data"
    },
    {
     "data": {
      "text/html": [
       "<html><script type=\"math/tex; mode=display\">\\newcommand{\\Bold}[1]{\\mathbf{#1}}\\left(\\begin{array}{rr}\n",
       "a_{1} a_{2} - b_{1} b_{2} & -a_{2} b_{1} - a_{1} b_{2} \\\\\n",
       "a_{2} b_{1} + a_{1} b_{2} & a_{1} a_{2} - b_{1} b_{2}\n",
       "\\end{array}\\right)</script></html>"
      ],
      "text/plain": [
       "[ a_1*a_2 - b_1*b_2 -a_2*b_1 - a_1*b_2]\n",
       "[ a_2*b_1 + a_1*b_2  a_1*a_2 - b_1*b_2]"
      ]
     },
     "metadata": {},
     "output_type": "display_data"
    },
    {
     "data": {
      "text/html": [
       "<html><script type=\"math/tex; mode=display\">\\newcommand{\\Bold}[1]{\\mathbf{#1}}\\left(\\begin{array}{rr}\n",
       "a_{1} a_{2} - b_{1} b_{2} & -a_{2} b_{1} - a_{1} b_{2} \\\\\n",
       "a_{2} b_{1} + a_{1} b_{2} & a_{1} a_{2} - b_{1} b_{2}\n",
       "\\end{array}\\right)</script></html>"
      ],
      "text/plain": [
       "[ a_1*a_2 - b_1*b_2 -a_2*b_1 - a_1*b_2]\n",
       "[ a_2*b_1 + a_1*b_2  a_1*a_2 - b_1*b_2]"
      ]
     },
     "metadata": {},
     "output_type": "display_data"
    }
   ],
   "source": [
    "# *\n",
    "\n",
    "c = c1 * c2\n",
    "display(c.real(), c.imag())\n",
    "display(m1*m2)\n",
    "display(c.real()*re+c.imag()*im)"
   ]
  },
  {
   "cell_type": "code",
   "execution_count": 8,
   "metadata": {},
   "outputs": [
    {
     "data": {
      "text/html": [
       "<html><script type=\"math/tex; mode=display\">\\newcommand{\\Bold}[1]{\\mathbf{#1}}\\frac{a_{1} a_{2}}{a_{2}^{2} + b_{2}^{2}} + \\frac{b_{1} b_{2}}{a_{2}^{2} + b_{2}^{2}}</script></html>"
      ],
      "text/plain": [
       "a_1*a_2/(a_2^2 + b_2^2) + b_1*b_2/(a_2^2 + b_2^2)"
      ]
     },
     "metadata": {},
     "output_type": "display_data"
    },
    {
     "data": {
      "text/html": [
       "<html><script type=\"math/tex; mode=display\">\\newcommand{\\Bold}[1]{\\mathbf{#1}}\\frac{a_{2} b_{1}}{a_{2}^{2} + b_{2}^{2}} - \\frac{a_{1} b_{2}}{a_{2}^{2} + b_{2}^{2}}</script></html>"
      ],
      "text/plain": [
       "a_2*b_1/(a_2^2 + b_2^2) - a_1*b_2/(a_2^2 + b_2^2)"
      ]
     },
     "metadata": {},
     "output_type": "display_data"
    },
    {
     "data": {
      "text/html": [
       "<html><script type=\"math/tex; mode=display\">\\newcommand{\\Bold}[1]{\\mathbf{#1}}\\left(\\begin{array}{rr}\n",
       "\\frac{a_{1} a_{2} + b_{1} b_{2}}{a_{2}^{2} + b_{2}^{2}} & -\\frac{a_{2} b_{1} - a_{1} b_{2}}{a_{2}^{2} + b_{2}^{2}} \\\\\n",
       "\\frac{a_{2} b_{1} - a_{1} b_{2}}{a_{2}^{2} + b_{2}^{2}} & \\frac{a_{1} a_{2} + b_{1} b_{2}}{a_{2}^{2} + b_{2}^{2}}\n",
       "\\end{array}\\right)</script></html>"
      ],
      "text/plain": [
       "[ (a_1*a_2 + b_1*b_2)/(a_2^2 + b_2^2) -(a_2*b_1 - a_1*b_2)/(a_2^2 + b_2^2)]\n",
       "[ (a_2*b_1 - a_1*b_2)/(a_2^2 + b_2^2)  (a_1*a_2 + b_1*b_2)/(a_2^2 + b_2^2)]"
      ]
     },
     "metadata": {},
     "output_type": "display_data"
    },
    {
     "data": {
      "text/html": [
       "<html><script type=\"math/tex; mode=display\">\\newcommand{\\Bold}[1]{\\mathbf{#1}}\\left(\\begin{array}{rr}\n",
       "\\frac{a_{1} a_{2} + b_{1} b_{2}}{a_{2}^{2} + b_{2}^{2}} & -\\frac{a_{2} b_{1} - a_{1} b_{2}}{a_{2}^{2} + b_{2}^{2}} \\\\\n",
       "\\frac{a_{2} b_{1} - a_{1} b_{2}}{a_{2}^{2} + b_{2}^{2}} & \\frac{a_{1} a_{2} + b_{1} b_{2}}{a_{2}^{2} + b_{2}^{2}}\n",
       "\\end{array}\\right)</script></html>"
      ],
      "text/plain": [
       "[ (a_1*a_2 + b_1*b_2)/(a_2^2 + b_2^2) -(a_2*b_1 - a_1*b_2)/(a_2^2 + b_2^2)]\n",
       "[ (a_2*b_1 - a_1*b_2)/(a_2^2 + b_2^2)  (a_1*a_2 + b_1*b_2)/(a_2^2 + b_2^2)]"
      ]
     },
     "metadata": {},
     "output_type": "display_data"
    }
   ],
   "source": [
    "# /\n",
    "\n",
    "c = c1 / c2\n",
    "display(c.real(), c.imag())\n",
    "display((m1/m2).simplify_full())\n",
    "display((c.real()*re+c.imag()*im).simplify_full())"
   ]
  },
  {
   "cell_type": "code",
   "execution_count": 9,
   "metadata": {},
   "outputs": [
    {
     "data": {
      "text/html": [
       "<html><script type=\"math/tex; mode=display\">\\newcommand{\\Bold}[1]{\\mathbf{#1}}a_{1} + i \\, b_{1}</script></html>"
      ],
      "text/plain": [
       "a_1 + I*b_1"
      ]
     },
     "metadata": {},
     "output_type": "display_data"
    },
    {
     "data": {
      "text/html": [
       "<html><script type=\"math/tex; mode=display\">\\newcommand{\\Bold}[1]{\\mathbf{#1}}a_{1} - i \\, b_{1}</script></html>"
      ],
      "text/plain": [
       "a_1 - I*b_1"
      ]
     },
     "metadata": {},
     "output_type": "display_data"
    },
    {
     "data": {
      "text/html": [
       "<html><script type=\"math/tex; mode=display\">\\newcommand{\\Bold}[1]{\\mathbf{#1}}\\left(\\begin{array}{rr}\n",
       "a_{1} & b_{1} \\\\\n",
       "-b_{1} & a_{1}\n",
       "\\end{array}\\right)</script></html>"
      ],
      "text/plain": [
       "[ a_1  b_1]\n",
       "[-b_1  a_1]"
      ]
     },
     "metadata": {},
     "output_type": "display_data"
    },
    {
     "data": {
      "text/html": [
       "<html><script type=\"math/tex; mode=display\">\\newcommand{\\Bold}[1]{\\mathbf{#1}}\\left(\\begin{array}{rr}\n",
       "a_{1} & b_{1} \\\\\n",
       "-b_{1} & a_{1}\n",
       "\\end{array}\\right)</script></html>"
      ],
      "text/plain": [
       "[ a_1  b_1]\n",
       "[-b_1  a_1]"
      ]
     },
     "metadata": {},
     "output_type": "display_data"
    }
   ],
   "source": [
    "# conjugate\n",
    "\n",
    "c = c1.conjugate()\n",
    "display(c1, c)\n",
    "display(m1.conjugate_transpose())\n",
    "display(c.real()*re+c.imag()*im)"
   ]
  },
  {
   "cell_type": "markdown",
   "metadata": {},
   "source": [
    "### What's Special - Hermitian Matrix\n",
    "\n",
    "The matrices representing complex number are Hermitian matrices. That means the conjugate transpose of the matrix is same as its inverse\n",
    "\n",
    "$$ M^{\\dagger} = M^{-1} $$\n",
    "\n",
    "where the sign dagger means complex conjugate of each member and then transpose the matrix. In case if M is real matrix $ M \\in \\mathbb{R} $\n",
    "\n",
    "$$ M^{T} = M^{-1} $$\n"
   ]
  },
  {
   "cell_type": "code",
   "execution_count": 10,
   "metadata": {},
   "outputs": [
    {
     "data": {
      "text/html": [
       "<html><script type=\"math/tex; mode=display\">\\newcommand{\\Bold}[1]{\\mathbf{#1}}a_{1} + i \\, b_{1}</script></html>"
      ],
      "text/plain": [
       "a_1 + I*b_1"
      ]
     },
     "metadata": {},
     "output_type": "display_data"
    },
    {
     "data": {
      "text/html": [
       "<html><script type=\"math/tex; mode=display\">\\newcommand{\\Bold}[1]{\\mathbf{#1}}a_{1} - i \\, b_{1}</script></html>"
      ],
      "text/plain": [
       "a_1 - I*b_1"
      ]
     },
     "metadata": {},
     "output_type": "display_data"
    },
    {
     "data": {
      "text/html": [
       "<html><script type=\"math/tex; mode=display\">\\newcommand{\\Bold}[1]{\\mathbf{#1}}a_{1}^{2} + b_{1}^{2}</script></html>"
      ],
      "text/plain": [
       "a_1^2 + b_1^2"
      ]
     },
     "metadata": {},
     "output_type": "display_data"
    },
    {
     "data": {
      "text/html": [
       "<html><script type=\"math/tex; mode=display\">\\newcommand{\\Bold}[1]{\\mathbf{#1}}\\left(\\begin{array}{rr}\n",
       "1 & 0 \\\\\n",
       "0 & 1\n",
       "\\end{array}\\right)</script></html>"
      ],
      "text/plain": [
       "[1 0]\n",
       "[0 1]"
      ]
     },
     "metadata": {},
     "output_type": "display_data"
    },
    {
     "data": {
      "text/html": [
       "<html><script type=\"math/tex; mode=display\">\\newcommand{\\Bold}[1]{\\mathbf{#1}}a_{1}^{2} + b_{1}^{2}</script></html>"
      ],
      "text/plain": [
       "a_1^2 + b_1^2"
      ]
     },
     "metadata": {},
     "output_type": "display_data"
    }
   ],
   "source": [
    "c1 = a_1 + I * b_1\n",
    "display(c1, c1.conjugate(), (c1.conjugate()*c1).expand())\n",
    "\n",
    "\n",
    "m1 = a_1*re + b_1*im\n",
    "m1d = m1.conjugate_transpose()\n",
    "display(m1*m1d/m1.det(), m1.det())"
   ]
  },
  {
   "cell_type": "markdown",
   "metadata": {},
   "source": [
    "### Complex Number in Euler Form"
   ]
  },
  {
   "attachments": {
    "image.png": {
     "image/png": "[encoded data removed]"
    }
   },
   "cell_type": "markdown",
   "metadata": {},
   "source": [
    "###### Polar complex plane and Modulus\n",
    "\n",
    "<div>\n",
    "<img src=\"attachment:image.png\" width=\"200\"/>\n",
    "</div>\n"
   ]
  },
  {
   "cell_type": "code",
   "execution_count": 11,
   "metadata": {},
   "outputs": [
    {
     "data": {
      "text/html": [
       "<html><script type=\"math/tex; mode=display\">\\newcommand{\\Bold}[1]{\\mathbf{#1}}r_{1} e^{\\left(i \\, \\phi_{1}\\right)}</script></html>"
      ],
      "text/plain": [
       "r_1*e^(I*phi_1)"
      ]
     },
     "metadata": {},
     "output_type": "display_data"
    },
    {
     "data": {
      "text/html": [
       "<html><script type=\"math/tex; mode=display\">\\newcommand{\\Bold}[1]{\\mathbf{#1}}r_{1} \\cos\\left(\\phi_{1}\\right)</script></html>"
      ],
      "text/plain": [
       "r_1*cos(phi_1)"
      ]
     },
     "metadata": {},
     "output_type": "display_data"
    },
    {
     "data": {
      "text/html": [
       "<html><script type=\"math/tex; mode=display\">\\newcommand{\\Bold}[1]{\\mathbf{#1}}r_{1} \\sin\\left(\\phi_{1}\\right)</script></html>"
      ],
      "text/plain": [
       "r_1*sin(phi_1)"
      ]
     },
     "metadata": {},
     "output_type": "display_data"
    },
    {
     "data": {
      "text/html": [
       "<html><script type=\"math/tex; mode=display\">\\newcommand{\\Bold}[1]{\\mathbf{#1}}r_{1} r_{2} e^{\\left(i \\, \\phi_{1} + i \\, \\phi_{2}\\right)}</script></html>"
      ],
      "text/plain": [
       "r_1*r_2*e^(I*phi_1 + I*phi_2)"
      ]
     },
     "metadata": {},
     "output_type": "display_data"
    },
    {
     "data": {
      "text/html": [
       "<html><script type=\"math/tex; mode=display\">\\newcommand{\\Bold}[1]{\\mathbf{#1}}r_{1} r_{2} \\cos\\left(\\phi_{1} + \\phi_{2}\\right)</script></html>"
      ],
      "text/plain": [
       "r_1*r_2*cos(phi_1 + phi_2)"
      ]
     },
     "metadata": {},
     "output_type": "display_data"
    },
    {
     "data": {
      "text/html": [
       "<html><script type=\"math/tex; mode=display\">\\newcommand{\\Bold}[1]{\\mathbf{#1}}r_{1} r_{2} \\sin\\left(\\phi_{1} + \\phi_{2}\\right)</script></html>"
      ],
      "text/plain": [
       "r_1*r_2*sin(phi_1 + phi_2)"
      ]
     },
     "metadata": {},
     "output_type": "display_data"
    }
   ],
   "source": [
    "var('r_1 phi_1 r_2 phi_2', domain='real')\n",
    "c1 = r_1 * e^(I*phi_1)\n",
    "c2 = r_2 * e^(I*phi_2)\n",
    "\n",
    "display(c1, c1.real(), c1.imag())\n",
    "\n",
    "c = c1*c2\n",
    "display(c, c.real(), c.imag())"
   ]
  },
  {
   "cell_type": "markdown",
   "metadata": {},
   "source": [
    "That says complex number means a 2-d geometric transition. If absolute value of complex number is 1, it means a rotation. In fact the matrix representing complex number is the transition matrix"
   ]
  },
  {
   "cell_type": "code",
   "execution_count": 12,
   "metadata": {},
   "outputs": [
    {
     "data": {
      "text/html": [
       "<html><script type=\"math/tex; mode=display\">\\newcommand{\\Bold}[1]{\\mathbf{#1}}\\left(\\begin{array}{rr}\n",
       "r_{1} \\cos\\left(\\phi_{1}\\right) & -r_{1} \\sin\\left(\\phi_{1}\\right) \\\\\n",
       "r_{1} \\sin\\left(\\phi_{1}\\right) & r_{1} \\cos\\left(\\phi_{1}\\right)\n",
       "\\end{array}\\right)</script></html>"
      ],
      "text/plain": [
       "[ r_1*cos(phi_1) -r_1*sin(phi_1)]\n",
       "[ r_1*sin(phi_1)  r_1*cos(phi_1)]"
      ]
     },
     "metadata": {},
     "output_type": "display_data"
    }
   ],
   "source": [
    "m1 = c1.real()*re + c1.imag()*im\n",
    "m2 = c2.real()*re + c2.imag()*im\n",
    "display(m1)"
   ]
  },
  {
   "cell_type": "code",
   "execution_count": 13,
   "metadata": {},
   "outputs": [
    {
     "data": {
      "text/html": [
       "<html><script type=\"math/tex; mode=display\">\\newcommand{\\Bold}[1]{\\mathbf{#1}}\\left(\\begin{array}{rr}\n",
       "r_{1}^{2} & 0 \\\\\n",
       "0 & r_{1}^{2}\n",
       "\\end{array}\\right)</script></html>"
      ],
      "text/plain": [
       "[r_1^2     0]\n",
       "[    0 r_1^2]"
      ]
     },
     "metadata": {},
     "output_type": "display_data"
    },
    {
     "data": {
      "text/html": [
       "<html><script type=\"math/tex; mode=display\">\\newcommand{\\Bold}[1]{\\mathbf{#1}}\\left(\\begin{array}{rr}\n",
       "\\cos\\left(\\phi_{1}\\right) \\cos\\left(\\phi_{2}\\right) - \\sin\\left(\\phi_{1}\\right) \\sin\\left(\\phi_{2}\\right) & -\\cos\\left(\\phi_{2}\\right) \\sin\\left(\\phi_{1}\\right) - \\cos\\left(\\phi_{1}\\right) \\sin\\left(\\phi_{2}\\right) \\\\\n",
       "\\cos\\left(\\phi_{2}\\right) \\sin\\left(\\phi_{1}\\right) + \\cos\\left(\\phi_{1}\\right) \\sin\\left(\\phi_{2}\\right) & \\cos\\left(\\phi_{1}\\right) \\cos\\left(\\phi_{2}\\right) - \\sin\\left(\\phi_{1}\\right) \\sin\\left(\\phi_{2}\\right)\n",
       "\\end{array}\\right)</script></html>"
      ],
      "text/plain": [
       "[ cos(phi_1)*cos(phi_2) - sin(phi_1)*sin(phi_2) -cos(phi_2)*sin(phi_1) - cos(phi_1)*sin(phi_2)]\n",
       "[ cos(phi_2)*sin(phi_1) + cos(phi_1)*sin(phi_2)  cos(phi_1)*cos(phi_2) - sin(phi_1)*sin(phi_2)]"
      ]
     },
     "metadata": {},
     "output_type": "display_data"
    },
    {
     "data": {
      "text/html": [
       "<html><script type=\"math/tex; mode=display\">\\newcommand{\\Bold}[1]{\\mathbf{#1}}\\left(\\begin{array}{rr}\n",
       "\\cos\\left(\\phi_{1}\\right) \\cos\\left(\\phi_{2}\\right) - \\sin\\left(\\phi_{1}\\right) \\sin\\left(\\phi_{2}\\right) & -\\cos\\left(\\phi_{2}\\right) \\sin\\left(\\phi_{1}\\right) - \\cos\\left(\\phi_{1}\\right) \\sin\\left(\\phi_{2}\\right) \\\\\n",
       "\\cos\\left(\\phi_{2}\\right) \\sin\\left(\\phi_{1}\\right) + \\cos\\left(\\phi_{1}\\right) \\sin\\left(\\phi_{2}\\right) & \\cos\\left(\\phi_{1}\\right) \\cos\\left(\\phi_{2}\\right) - \\sin\\left(\\phi_{1}\\right) \\sin\\left(\\phi_{2}\\right)\n",
       "\\end{array}\\right)</script></html>"
      ],
      "text/plain": [
       "[ cos(phi_1)*cos(phi_2) - sin(phi_1)*sin(phi_2) -cos(phi_2)*sin(phi_1) - cos(phi_1)*sin(phi_2)]\n",
       "[ cos(phi_2)*sin(phi_1) + cos(phi_1)*sin(phi_2)  cos(phi_1)*cos(phi_2) - sin(phi_1)*sin(phi_2)]"
      ]
     },
     "metadata": {},
     "output_type": "display_data"
    }
   ],
   "source": [
    "# conjugate transpose is a reverse rotation\n",
    "display((m1.conjugate_transpose()*m1).simplify_trig())\n",
    "\n",
    "# two rotations\n",
    "m = m1 * m2 / (r_1*r_2)\n",
    "display(m.simplify_full())\n",
    "\n",
    "c = c1 * c2 / (r_1*r_2)\n",
    "m_c = c.real()*re + c.imag()*im\n",
    "display(m_c.simplify_full())"
   ]
  },
  {
   "cell_type": "markdown",
   "metadata": {},
   "source": [
    "### Rotation With Transition Matrix\n"
   ]
  },
  {
   "cell_type": "code",
   "execution_count": 14,
   "metadata": {},
   "outputs": [
    {
     "data": {
      "text/html": [
       "<html><script type=\"math/tex; mode=display\">\\newcommand{\\Bold}[1]{\\mathbf{#1}}\\left(\\begin{array}{rr}\n",
       "\\cos\\left(\\phi_{1}\\right) & -\\sin\\left(\\phi_{1}\\right) \\\\\n",
       "\\sin\\left(\\phi_{1}\\right) & \\cos\\left(\\phi_{1}\\right)\n",
       "\\end{array}\\right)</script></html>"
      ],
      "text/plain": [
       "[ cos(phi_1) -sin(phi_1)]\n",
       "[ sin(phi_1)  cos(phi_1)]"
      ]
     },
     "metadata": {},
     "output_type": "display_data"
    },
    {
     "data": {
      "text/html": [
       "<html><script type=\"math/tex; mode=display\">\\newcommand{\\Bold}[1]{\\mathbf{#1}}\\left(\\begin{array}{r}\n",
       "x \\\\\n",
       "y\n",
       "\\end{array}\\right)</script></html>"
      ],
      "text/plain": [
       "[x]\n",
       "[y]"
      ]
     },
     "metadata": {},
     "output_type": "display_data"
    },
    {
     "data": {
      "text/html": [
       "<html><script type=\"math/tex; mode=display\">\\newcommand{\\Bold}[1]{\\mathbf{#1}}\\left(\\begin{array}{r}\n",
       "x \\cos\\left(\\phi_{1}\\right) - y \\sin\\left(\\phi_{1}\\right) \\\\\n",
       "y \\cos\\left(\\phi_{1}\\right) + x \\sin\\left(\\phi_{1}\\right)\n",
       "\\end{array}\\right)</script></html>"
      ],
      "text/plain": [
       "[x*cos(phi_1) - y*sin(phi_1)]\n",
       "[y*cos(phi_1) + x*sin(phi_1)]"
      ]
     },
     "metadata": {},
     "output_type": "display_data"
    }
   ],
   "source": [
    "var('x y', domain='real')\n",
    "v = vector([x, y]).row().T\n",
    "display(m1/r_1, v)\n",
    "display(m1/r_1*v)"
   ]
  },
  {
   "cell_type": "markdown",
   "metadata": {},
   "source": [
    "### Symmetry, Cycle Group and U(1)\n",
    "\n",
    "Unit complex number forms cycle group, denoted $\\mathbb{T}$, with structure of topological group. From above displayed relations, we can see it is isomorphic to group $\\mathbb{U}(1)$ unitary matrices of complex number. They are abelian groups. "
   ]
  },
  {
   "cell_type": "code",
   "execution_count": 15,
   "metadata": {},
   "outputs": [
    {
     "data": {
      "text/html": [
       "<html><script type=\"math/tex; mode=display\">\\newcommand{\\Bold}[1]{\\mathbf{#1}}\\left(\\begin{array}{rr}\n",
       "a_{1} - i \\, b_{1} & -a_{2} - i \\, b_{2} \\\\\n",
       "a_{2} - i \\, b_{2} & a_{1} + i \\, b_{1}\n",
       "\\end{array}\\right)</script></html>"
      ],
      "text/plain": [
       "[ a_1 - I*b_1 -a_2 - I*b_2]\n",
       "[ a_2 - I*b_2  a_1 + I*b_1]"
      ]
     },
     "metadata": {},
     "output_type": "display_data"
    },
    {
     "data": {
      "text/html": [
       "<html><script type=\"math/tex; mode=display\">\\newcommand{\\Bold}[1]{\\mathbf{#1}}\\left(\\begin{array}{rr}\n",
       "a_{1} + i \\, b_{1} & a_{2} + i \\, b_{2} \\\\\n",
       "-a_{2} + i \\, b_{2} & a_{1} - i \\, b_{1}\n",
       "\\end{array}\\right)</script></html>"
      ],
      "text/plain": [
       "[ a_1 + I*b_1  a_2 + I*b_2]\n",
       "[-a_2 + I*b_2  a_1 - I*b_1]"
      ]
     },
     "metadata": {},
     "output_type": "display_data"
    },
    {
     "data": {
      "text/html": [
       "<html><script type=\"math/tex; mode=display\">\\newcommand{\\Bold}[1]{\\mathbf{#1}}\\left(\\begin{array}{rr}\n",
       "a_{1}^{2} + a_{2}^{2} + b_{1}^{2} + b_{2}^{2} & 0 \\\\\n",
       "0 & a_{1}^{2} + a_{2}^{2} + b_{1}^{2} + b_{2}^{2}\n",
       "\\end{array}\\right)</script></html>"
      ],
      "text/plain": [
       "[a_1^2 + a_2^2 + b_1^2 + b_2^2                             0]\n",
       "[                            0 a_1^2 + a_2^2 + b_1^2 + b_2^2]"
      ]
     },
     "metadata": {},
     "output_type": "display_data"
    }
   ],
   "source": [
    "m = Matrix([[a_1+b_1*I, a_2+b_2*I], [-a_2+b_2*I, a_1-b_1*I]])\n",
    "display(m.conjugate_transpose(), m)\n",
    "\n",
    "mm = m.conjugate_transpose()*m\n",
    "display(mm.expand().simplify_full())"
   ]
  },
  {
   "cell_type": "markdown",
   "metadata": {},
   "source": [
    "Abelian group is commutative, we have this observation, will compare with the behavior of quaternion later:"
   ]
  },
  {
   "cell_type": "code",
   "execution_count": 16,
   "metadata": {},
   "outputs": [
    {
     "data": {
      "text/html": [
       "<html><script type=\"math/tex; mode=display\">\\newcommand{\\Bold}[1]{\\mathbf{#1}}\\left(\\begin{array}{rr}\n",
       "r_{1} \\cos\\left(\\phi_{1}\\right) & -r_{1} \\sin\\left(\\phi_{1}\\right) \\\\\n",
       "r_{1} \\sin\\left(\\phi_{1}\\right) & r_{1} \\cos\\left(\\phi_{1}\\right)\n",
       "\\end{array}\\right)</script></html>"
      ],
      "text/plain": [
       "[ r_1*cos(phi_1) -r_1*sin(phi_1)]\n",
       "[ r_1*sin(phi_1)  r_1*cos(phi_1)]"
      ]
     },
     "metadata": {},
     "output_type": "display_data"
    },
    {
     "data": {
      "text/html": [
       "<html><script type=\"math/tex; mode=display\">\\newcommand{\\Bold}[1]{\\mathbf{#1}}\\left(\\begin{array}{rr}\n",
       "r_{2} \\cos\\left(\\phi_{2}\\right) & -r_{2} \\sin\\left(\\phi_{2}\\right) \\\\\n",
       "r_{2} \\sin\\left(\\phi_{2}\\right) & r_{2} \\cos\\left(\\phi_{2}\\right)\n",
       "\\end{array}\\right)</script></html>"
      ],
      "text/plain": [
       "[ r_2*cos(phi_2) -r_2*sin(phi_2)]\n",
       "[ r_2*sin(phi_2)  r_2*cos(phi_2)]"
      ]
     },
     "metadata": {},
     "output_type": "display_data"
    },
    {
     "data": {
      "text/html": [
       "<html><script type=\"math/tex; mode=display\">\\newcommand{\\Bold}[1]{\\mathbf{#1}}\\left(\\begin{array}{rr}\n",
       "r_{1}^{2} r_{2} \\cos\\left(\\phi_{2}\\right) & -r_{1}^{2} r_{2} \\sin\\left(\\phi_{2}\\right) \\\\\n",
       "r_{1}^{2} r_{2} \\sin\\left(\\phi_{2}\\right) & r_{1}^{2} r_{2} \\cos\\left(\\phi_{2}\\right)\n",
       "\\end{array}\\right)</script></html>"
      ],
      "text/plain": [
       "[ r_1^2*r_2*cos(phi_2) -r_1^2*r_2*sin(phi_2)]\n",
       "[ r_1^2*r_2*sin(phi_2)  r_1^2*r_2*cos(phi_2)]"
      ]
     },
     "metadata": {},
     "output_type": "display_data"
    }
   ],
   "source": [
    "display(m1,m2)\n",
    "display((m1.conjugate_transpose()*m2*m1).simplify_trig())"
   ]
  },
  {
   "cell_type": "markdown",
   "metadata": {},
   "source": [
    "## Quaternion Number and 4x4 Hermitian Matrix\n",
    "\n",
    "Note it is Hermitian matrix"
   ]
  },
  {
   "cell_type": "code",
   "execution_count": 17,
   "metadata": {},
   "outputs": [
    {
     "data": {
      "text/html": [
       "<html><script type=\"math/tex; mode=display\">\\newcommand{\\Bold}[1]{\\mathbf{#1}}\\left(a_{1}, a_{2}, b_{1}, b_{2}, c_{1}, c_{2}, d_{1}, d_{2}\\right)</script></html>"
      ],
      "text/plain": [
       "(a1, a2, b1, b2, c1, c2, d1, d2)"
      ]
     },
     "execution_count": 17,
     "metadata": {},
     "output_type": "execute_result"
    }
   ],
   "source": [
    "# define quaternion numbers. ii/jj/kk are basic quaternions\n",
    "R.<ii,jj,kk> = QuaternionAlgebra(SR,-1,-1)\n",
    "var('a1 a2 b1 b2 c1 c2 d1 d2', domain='real')"
   ]
  },
  {
   "cell_type": "code",
   "execution_count": 18,
   "metadata": {},
   "outputs": [
    {
     "data": {
      "text/html": [
       "<html><script type=\"math/tex; mode=display\">\\newcommand{\\Bold}[1]{\\mathbf{#1}}\\verb|a1|\\phantom{\\verb!x!}\\verb|+|\\phantom{\\verb!x!}\\verb|b1*ii|\\phantom{\\verb!x!}\\verb|+|\\phantom{\\verb!x!}\\verb|c1*jj|\\phantom{\\verb!x!}\\verb|+|\\phantom{\\verb!x!}\\verb|d1*kk|</script></html>"
      ],
      "text/plain": [
       "a1 + b1*ii + c1*jj + d1*kk"
      ]
     },
     "metadata": {},
     "output_type": "display_data"
    },
    {
     "data": {
      "text/html": [
       "<html><script type=\"math/tex; mode=display\">\\newcommand{\\Bold}[1]{\\mathbf{#1}}\\verb|a2|\\phantom{\\verb!x!}\\verb|+|\\phantom{\\verb!x!}\\verb|b2*ii|\\phantom{\\verb!x!}\\verb|+|\\phantom{\\verb!x!}\\verb|c2*jj|\\phantom{\\verb!x!}\\verb|+|\\phantom{\\verb!x!}\\verb|d2*kk|</script></html>"
      ],
      "text/plain": [
       "a2 + b2*ii + c2*jj + d2*kk"
      ]
     },
     "metadata": {},
     "output_type": "display_data"
    }
   ],
   "source": [
    "# this is full form of a quaternion number\n",
    "q1 = a1 + b1*ii + c1*jj + d1*kk\n",
    "q2 = a2 + b2*ii + c2*jj + d2*kk\n",
    "display(q1, q2)"
   ]
  },
  {
   "cell_type": "markdown",
   "metadata": {},
   "source": [
    "### Multiplication of Quaternions is Noncommutative"
   ]
  },
  {
   "cell_type": "code",
   "execution_count": 19,
   "metadata": {},
   "outputs": [
    {
     "data": {
      "text/html": [
       "<html><script type=\"math/tex; mode=display\">\\newcommand{\\Bold}[1]{\\mathbf{#1}}-1</script></html>"
      ],
      "text/plain": [
       "-1"
      ]
     },
     "metadata": {},
     "output_type": "display_data"
    },
    {
     "data": {
      "text/html": [
       "<html><script type=\"math/tex; mode=display\">\\newcommand{\\Bold}[1]{\\mathbf{#1}}-1</script></html>"
      ],
      "text/plain": [
       "-1"
      ]
     },
     "metadata": {},
     "output_type": "display_data"
    },
    {
     "data": {
      "text/html": [
       "<html><script type=\"math/tex; mode=display\">\\newcommand{\\Bold}[1]{\\mathbf{#1}}-1</script></html>"
      ],
      "text/plain": [
       "-1"
      ]
     },
     "metadata": {},
     "output_type": "display_data"
    },
    {
     "data": {
      "text/html": [
       "<html><script type=\"math/tex; mode=display\">\\newcommand{\\Bold}[1]{\\mathbf{#1}}-1</script></html>"
      ],
      "text/plain": [
       "-1"
      ]
     },
     "metadata": {},
     "output_type": "display_data"
    },
    {
     "data": {
      "text/html": [
       "<html><script type=\"math/tex; mode=display\">\\newcommand{\\Bold}[1]{\\mathbf{#1}}\\verb|kk|</script></html>"
      ],
      "text/plain": [
       "kk"
      ]
     },
     "metadata": {},
     "output_type": "display_data"
    },
    {
     "data": {
      "text/html": [
       "<html><script type=\"math/tex; mode=display\">\\newcommand{\\Bold}[1]{\\mathbf{#1}}\\verb|ii|</script></html>"
      ],
      "text/plain": [
       "ii"
      ]
     },
     "metadata": {},
     "output_type": "display_data"
    },
    {
     "data": {
      "text/html": [
       "<html><script type=\"math/tex; mode=display\">\\newcommand{\\Bold}[1]{\\mathbf{#1}}\\verb|jj|</script></html>"
      ],
      "text/plain": [
       "jj"
      ]
     },
     "metadata": {},
     "output_type": "display_data"
    },
    {
     "data": {
      "text/html": [
       "<html><script type=\"math/tex; mode=display\">\\newcommand{\\Bold}[1]{\\mathbf{#1}}\\verb|-kk|</script></html>"
      ],
      "text/plain": [
       "-kk"
      ]
     },
     "metadata": {},
     "output_type": "display_data"
    },
    {
     "data": {
      "text/html": [
       "<html><script type=\"math/tex; mode=display\">\\newcommand{\\Bold}[1]{\\mathbf{#1}}\\verb|-ii|</script></html>"
      ],
      "text/plain": [
       "-ii"
      ]
     },
     "metadata": {},
     "output_type": "display_data"
    },
    {
     "data": {
      "text/html": [
       "<html><script type=\"math/tex; mode=display\">\\newcommand{\\Bold}[1]{\\mathbf{#1}}\\verb|-jj|</script></html>"
      ],
      "text/plain": [
       "-jj"
      ]
     },
     "metadata": {},
     "output_type": "display_data"
    }
   ],
   "source": [
    "# some behaviors of quaternion\n",
    "display(ii^2,jj^2,kk^2,ii*jj*kk)\n",
    "display(ii*jj,jj*kk,kk*ii)\n",
    "display(jj*ii,kk*jj,ii*kk)"
   ]
  },
  {
   "cell_type": "markdown",
   "metadata": {},
   "source": [
    "### Conjugate"
   ]
  },
  {
   "cell_type": "code",
   "execution_count": 20,
   "metadata": {},
   "outputs": [
    {
     "data": {
      "text/html": [
       "<html><script type=\"math/tex; mode=display\">\\newcommand{\\Bold}[1]{\\mathbf{#1}}\\verb|a1|\\phantom{\\verb!x!}\\verb|+|\\phantom{\\verb!x!}\\verb|(-b1)*ii|\\phantom{\\verb!x!}\\verb|+|\\phantom{\\verb!x!}\\verb|(-c1)*jj|\\phantom{\\verb!x!}\\verb|+|\\phantom{\\verb!x!}\\verb|(-d1)*kk|</script></html>"
      ],
      "text/plain": [
       "a1 + (-b1)*ii + (-c1)*jj + (-d1)*kk"
      ]
     },
     "metadata": {},
     "output_type": "display_data"
    },
    {
     "data": {
      "text/html": [
       "<html><script type=\"math/tex; mode=display\">\\newcommand{\\Bold}[1]{\\mathbf{#1}}\\verb|a1^2|\\phantom{\\verb!x!}\\verb|+|\\phantom{\\verb!x!}\\verb|b1^2|\\phantom{\\verb!x!}\\verb|+|\\phantom{\\verb!x!}\\verb|c1^2|\\phantom{\\verb!x!}\\verb|+|\\phantom{\\verb!x!}\\verb|d1^2|</script></html>"
      ],
      "text/plain": [
       "a1^2 + b1^2 + c1^2 + d1^2"
      ]
     },
     "metadata": {},
     "output_type": "display_data"
    }
   ],
   "source": [
    "display(q1.conjugate())\n",
    "display(q1.conjugate()*q1)"
   ]
  },
  {
   "cell_type": "markdown",
   "metadata": {},
   "source": [
    "### 4x4 Hermitian Matrices!!\n",
    "\n",
    "You get my point?"
   ]
  },
  {
   "cell_type": "code",
   "execution_count": 21,
   "metadata": {},
   "outputs": [
    {
     "data": {
      "text/html": [
       "<html><script type=\"math/tex; mode=display\">\\newcommand{\\Bold}[1]{\\mathbf{#1}}\\left(\\begin{array}{rrrr}\n",
       "1 & 0 & 0 & 0 \\\\\n",
       "0 & 1 & 0 & 0 \\\\\n",
       "0 & 0 & 1 & 0 \\\\\n",
       "0 & 0 & 0 & 1\n",
       "\\end{array}\\right)</script></html>"
      ],
      "text/plain": [
       "[1 0 0 0]\n",
       "[0 1 0 0]\n",
       "[0 0 1 0]\n",
       "[0 0 0 1]"
      ]
     },
     "metadata": {},
     "output_type": "display_data"
    },
    {
     "data": {
      "text/html": [
       "<html><script type=\"math/tex; mode=display\">\\newcommand{\\Bold}[1]{\\mathbf{#1}}\\left(\\begin{array}{rrrr}\n",
       "0 & 1 & 0 & 0 \\\\\n",
       "-1 & 0 & 0 & 0 \\\\\n",
       "0 & 0 & 0 & -1 \\\\\n",
       "0 & 0 & 1 & 0\n",
       "\\end{array}\\right)</script></html>"
      ],
      "text/plain": [
       "[ 0  1  0  0]\n",
       "[-1  0  0  0]\n",
       "[ 0  0  0 -1]\n",
       "[ 0  0  1  0]"
      ]
     },
     "metadata": {},
     "output_type": "display_data"
    },
    {
     "data": {
      "text/html": [
       "<html><script type=\"math/tex; mode=display\">\\newcommand{\\Bold}[1]{\\mathbf{#1}}\\left(\\begin{array}{rrrr}\n",
       "0 & 0 & 1 & 0 \\\\\n",
       "0 & 0 & 0 & 1 \\\\\n",
       "-1 & 0 & 0 & 0 \\\\\n",
       "0 & -1 & 0 & 0\n",
       "\\end{array}\\right)</script></html>"
      ],
      "text/plain": [
       "[ 0  0  1  0]\n",
       "[ 0  0  0  1]\n",
       "[-1  0  0  0]\n",
       "[ 0 -1  0  0]"
      ]
     },
     "metadata": {},
     "output_type": "display_data"
    },
    {
     "data": {
      "text/html": [
       "<html><script type=\"math/tex; mode=display\">\\newcommand{\\Bold}[1]{\\mathbf{#1}}\\left(\\begin{array}{rrrr}\n",
       "0 & 0 & 0 & 1 \\\\\n",
       "0 & 0 & -1 & 0 \\\\\n",
       "0 & 1 & 0 & 0 \\\\\n",
       "-1 & 0 & 0 & 0\n",
       "\\end{array}\\right)</script></html>"
      ],
      "text/plain": [
       "[ 0  0  0  1]\n",
       "[ 0  0 -1  0]\n",
       "[ 0  1  0  0]\n",
       "[-1  0  0  0]"
      ]
     },
     "metadata": {},
     "output_type": "display_data"
    }
   ],
   "source": [
    "mI = matrix.identity(4); mii = ii.matrix();  mjj = jj.matrix(); mkk = kk.matrix()\n",
    "display(matrix.identity(4), ii.matrix(), jj.matrix(), kk.matrix())"
   ]
  },
  {
   "cell_type": "markdown",
   "metadata": {},
   "source": [
    "Hermitian means its conjugate transpose is its inverse"
   ]
  },
  {
   "cell_type": "code",
   "execution_count": 22,
   "metadata": {},
   "outputs": [
    {
     "data": {
      "text/html": [
       "<html><script type=\"math/tex; mode=display\">\\newcommand{\\Bold}[1]{\\mathbf{#1}}\\left(\\begin{array}{rrrr}\n",
       "a_{1} & b_{1} & c_{1} & d_{1} \\\\\n",
       "-b_{1} & a_{1} & -d_{1} & c_{1} \\\\\n",
       "-c_{1} & d_{1} & a_{1} & -b_{1} \\\\\n",
       "-d_{1} & -c_{1} & b_{1} & a_{1}\n",
       "\\end{array}\\right)</script></html>"
      ],
      "text/plain": [
       "[ a1  b1  c1  d1]\n",
       "[-b1  a1 -d1  c1]\n",
       "[-c1  d1  a1 -b1]\n",
       "[-d1 -c1  b1  a1]"
      ]
     },
     "metadata": {},
     "output_type": "display_data"
    },
    {
     "data": {
      "text/html": [
       "<html><script type=\"math/tex; mode=display\">\\newcommand{\\Bold}[1]{\\mathbf{#1}}\\left(\\begin{array}{rrrr}\n",
       "a_{1} & -b_{1} & -c_{1} & -d_{1} \\\\\n",
       "b_{1} & a_{1} & d_{1} & -c_{1} \\\\\n",
       "c_{1} & -d_{1} & a_{1} & b_{1} \\\\\n",
       "d_{1} & c_{1} & -b_{1} & a_{1}\n",
       "\\end{array}\\right)</script></html>"
      ],
      "text/plain": [
       "[ a1 -b1 -c1 -d1]\n",
       "[ b1  a1  d1 -c1]\n",
       "[ c1 -d1  a1  b1]\n",
       "[ d1  c1 -b1  a1]"
      ]
     },
     "metadata": {},
     "output_type": "display_data"
    },
    {
     "data": {
      "text/html": [
       "<html><script type=\"math/tex; mode=display\">\\newcommand{\\Bold}[1]{\\mathbf{#1}}\\left(\\begin{array}{rrrr}\n",
       "a_{1}^{2} + b_{1}^{2} + c_{1}^{2} + d_{1}^{2} & 0 & 0 & 0 \\\\\n",
       "0 & a_{1}^{2} + b_{1}^{2} + c_{1}^{2} + d_{1}^{2} & 0 & 0 \\\\\n",
       "0 & 0 & a_{1}^{2} + b_{1}^{2} + c_{1}^{2} + d_{1}^{2} & 0 \\\\\n",
       "0 & 0 & 0 & a_{1}^{2} + b_{1}^{2} + c_{1}^{2} + d_{1}^{2}\n",
       "\\end{array}\\right)</script></html>"
      ],
      "text/plain": [
       "[a1^2 + b1^2 + c1^2 + d1^2                         0                         0                         0]\n",
       "[                        0 a1^2 + b1^2 + c1^2 + d1^2                         0                         0]\n",
       "[                        0                         0 a1^2 + b1^2 + c1^2 + d1^2                         0]\n",
       "[                        0                         0                         0 a1^2 + b1^2 + c1^2 + d1^2]"
      ]
     },
     "metadata": {},
     "output_type": "display_data"
    }
   ],
   "source": [
    "m1 = a1*mI + b1*mii + c1*mjj + d1*mkk\n",
    "m2 = a2*mI + b2*mii + c2*mjj + d2*mkk\n",
    "display(m1)\n",
    "display(m1.conjugate_transpose())\n",
    "display(m1.conjugate_transpose()*m1)"
   ]
  },
  {
   "cell_type": "markdown",
   "metadata": {},
   "source": [
    "### What About the 2x2 unitary complex matrix?\n",
    "it is also equivalent to (a+bi)1 + (c+di)j where i and j are the basis of 2 $C^{2}$, satisfying $i^2=-1, j^2=-1, ij=-ji$\n"
   ]
  },
  {
   "cell_type": "code",
   "execution_count": 23,
   "metadata": {},
   "outputs": [
    {
     "data": {
      "text/html": [
       "<html><script type=\"math/tex; mode=display\">\\newcommand{\\Bold}[1]{\\mathbf{#1}}\\left(\\begin{array}{rr}\n",
       "a_{1} + i \\, b_{1} & c_{1} + i \\, d_{1} \\\\\n",
       "-c_{1} + i \\, d_{1} & a_{1} - i \\, b_{1}\n",
       "\\end{array}\\right)</script></html>"
      ],
      "text/plain": [
       "[ a1 + I*b1  c1 + I*d1]\n",
       "[-c1 + I*d1  a1 - I*b1]"
      ]
     },
     "metadata": {},
     "output_type": "display_data"
    },
    {
     "data": {
      "text/html": [
       "<html><script type=\"math/tex; mode=display\">\\newcommand{\\Bold}[1]{\\mathbf{#1}}\\left(\\begin{array}{rr}\n",
       "a_{1} - i \\, b_{1} & c_{1} - i \\, d_{1} \\\\\n",
       "-c_{1} - i \\, d_{1} & a_{1} + i \\, b_{1}\n",
       "\\end{array}\\right)</script></html>"
      ],
      "text/plain": [
       "[ a1 - I*b1  c1 - I*d1]\n",
       "[-c1 - I*d1  a1 + I*b1]"
      ]
     },
     "metadata": {},
     "output_type": "display_data"
    },
    {
     "data": {
      "text/html": [
       "<html><script type=\"math/tex; mode=display\">\\newcommand{\\Bold}[1]{\\mathbf{#1}}\\left(\\begin{array}{rr}\n",
       "a_{1}^{2} + b_{1}^{2} + c_{1}^{2} + d_{1}^{2} & 0 \\\\\n",
       "0 & a_{1}^{2} + b_{1}^{2} + c_{1}^{2} + d_{1}^{2}\n",
       "\\end{array}\\right)</script></html>"
      ],
      "text/plain": [
       "[a1^2 + b1^2 + c1^2 + d1^2                         0]\n",
       "[                        0 a1^2 + b1^2 + c1^2 + d1^2]"
      ]
     },
     "metadata": {},
     "output_type": "display_data"
    },
    {
     "data": {
      "text/html": [
       "<html><script type=\"math/tex; mode=display\">\\newcommand{\\Bold}[1]{\\mathbf{#1}}a_{1}^{2} + b_{1}^{2} + c_{1}^{2} + d_{1}^{2}</script></html>"
      ],
      "text/plain": [
       "a1^2 + b1^2 + c1^2 + d1^2"
      ]
     },
     "metadata": {},
     "output_type": "display_data"
    }
   ],
   "source": [
    "q3 = Matrix([[a1-b1*I, c1-d1*I], [-c1-d1*I, a1+b1*I]])\n",
    "q3 = Matrix([[a1+b1*I, c1+d1*I], [-c1+d1*I, a1-b1*I]])\n",
    "display(q3, q3.conjugate())\n",
    "display((q3*q3.conjugate().T).simplify_full())\n",
    "display((q3.det()).simplify_full())"
   ]
  },
  {
   "cell_type": "markdown",
   "metadata": {},
   "source": [
    "### Pauli Matrix\n",
    "\n",
    "Pauli matrix is the key toolkit to describe the spin of electrons in Quantum mechanics. Spin, especially 1/2 spin fermions is always a strange, confusing and meanwhile exiting thing in physics. After 100 years of greatest discovery in human history, I don't believe we have got to the bottom of it. Let's see what they are"
   ]
  },
  {
   "cell_type": "code",
   "execution_count": 24,
   "metadata": {},
   "outputs": [
    {
     "data": {
      "text/html": [
       "<html><script type=\"math/tex; mode=display\">\\newcommand{\\Bold}[1]{\\mathbf{#1}}\\left(\\begin{array}{rr}\n",
       "1 & 0 \\\\\n",
       "0 & 1\n",
       "\\end{array}\\right)</script></html>"
      ],
      "text/plain": [
       "[1 0]\n",
       "[0 1]"
      ]
     },
     "metadata": {},
     "output_type": "display_data"
    },
    {
     "data": {
      "text/html": [
       "<html><script type=\"math/tex; mode=display\">\\newcommand{\\Bold}[1]{\\mathbf{#1}}\\left(\\begin{array}{rr}\n",
       "i & 0 \\\\\n",
       "0 & -i\n",
       "\\end{array}\\right)</script></html>"
      ],
      "text/plain": [
       "[ I  0]\n",
       "[ 0 -I]"
      ]
     },
     "metadata": {},
     "output_type": "display_data"
    },
    {
     "data": {
      "text/html": [
       "<html><script type=\"math/tex; mode=display\">\\newcommand{\\Bold}[1]{\\mathbf{#1}}\\left(\\begin{array}{rr}\n",
       "0 & 1 \\\\\n",
       "-1 & 0\n",
       "\\end{array}\\right)</script></html>"
      ],
      "text/plain": [
       "[ 0  1]\n",
       "[-1  0]"
      ]
     },
     "metadata": {},
     "output_type": "display_data"
    },
    {
     "data": {
      "text/html": [
       "<html><script type=\"math/tex; mode=display\">\\newcommand{\\Bold}[1]{\\mathbf{#1}}\\left(\\begin{array}{rr}\n",
       "0 & i \\\\\n",
       "i & 0\n",
       "\\end{array}\\right)</script></html>"
      ],
      "text/plain": [
       "[0 I]\n",
       "[I 0]"
      ]
     },
     "metadata": {},
     "output_type": "display_data"
    }
   ],
   "source": [
    "# Let's consider the quaternion qritten in this form, its special vaules of ii/jj/kk\n",
    "\n",
    "# 1=I, b=c=d=0\n",
    "u_I  = q3.subs({b1:0, c1:0, d1:0})/a1\n",
    "# ii, a=c=d=0\n",
    "u_ii = q3.subs({a1:0, c1:0, d1:0})/b1\n",
    "# jj, a=b=d=0\n",
    "u_jj = q3.subs({a1:0, b1:0, d1:0})/c1\n",
    "# ii, a=c=d=0\n",
    "u_kk = q3.subs({a1:0, b1:0, c1:0})/d1\n",
    "\n",
    "\n",
    "display(u_I, u_ii, u_jj, u_kk)"
   ]
  },
  {
   "cell_type": "markdown",
   "metadata": {},
   "source": [
    "### They are identity matix and 3 Pauli matrices!!!"
   ]
  },
  {
   "cell_type": "code",
   "execution_count": 25,
   "metadata": {},
   "outputs": [
    {
     "data": {
      "text/html": [
       "<html><script type=\"math/tex; mode=display\">\\newcommand{\\Bold}[1]{\\mathbf{#1}}\\left(\\begin{array}{rr}\n",
       "1 & 0 \\\\\n",
       "0 & -1\n",
       "\\end{array}\\right)</script></html>"
      ],
      "text/plain": [
       "[ 1  0]\n",
       "[ 0 -1]"
      ]
     },
     "metadata": {},
     "output_type": "display_data"
    },
    {
     "data": {
      "text/html": [
       "<html><script type=\"math/tex; mode=display\">\\newcommand{\\Bold}[1]{\\mathbf{#1}}\\left(\\begin{array}{rr}\n",
       "0 & -i \\\\\n",
       "i & 0\n",
       "\\end{array}\\right)</script></html>"
      ],
      "text/plain": [
       "[ 0 -I]\n",
       "[ I  0]"
      ]
     },
     "metadata": {},
     "output_type": "display_data"
    },
    {
     "data": {
      "text/html": [
       "<html><script type=\"math/tex; mode=display\">\\newcommand{\\Bold}[1]{\\mathbf{#1}}\\left(\\begin{array}{rr}\n",
       "0 & 1 \\\\\n",
       "1 & 0\n",
       "\\end{array}\\right)</script></html>"
      ],
      "text/plain": [
       "[0 1]\n",
       "[1 0]"
      ]
     },
     "metadata": {},
     "output_type": "display_data"
    }
   ],
   "source": [
    "sigma_x = (-I) * u_ii; sigma_y = (-I) * u_jj; sigma_z = (-I) * u_kk;\n",
    "\n",
    "display(sigma_x, sigma_y, sigma_z)"
   ]
  },
  {
   "cell_type": "code",
   "execution_count": 26,
   "metadata": {},
   "outputs": [
    {
     "data": {
      "text/html": [
       "<html><script type=\"math/tex; mode=display\">\\newcommand{\\Bold}[1]{\\mathbf{#1}}\\left[\\left(-1, \\left[\\left(0,\\,1\\right)\\right], 1\\right), \\left(1, \\left[\\left(1,\\,0\\right)\\right], 1\\right)\\right]</script></html>"
      ],
      "text/plain": [
       "[(-1, [(0, 1)], 1), (1, [(1, 0)], 1)]"
      ]
     },
     "metadata": {},
     "output_type": "display_data"
    },
    {
     "data": {
      "text/html": [
       "<html><script type=\"math/tex; mode=display\">\\newcommand{\\Bold}[1]{\\mathbf{#1}}\\left[\\left(-1, \\left[\\left(1,\\,-i\\right)\\right], 1\\right), \\left(1, \\left[\\left(1,\\,i\\right)\\right], 1\\right)\\right]</script></html>"
      ],
      "text/plain": [
       "[(-1, [(1, -I)], 1), (1, [(1, I)], 1)]"
      ]
     },
     "metadata": {},
     "output_type": "display_data"
    },
    {
     "data": {
      "text/html": [
       "<html><script type=\"math/tex; mode=display\">\\newcommand{\\Bold}[1]{\\mathbf{#1}}\\left[\\left(-1, \\left[\\left(1,\\,-1\\right)\\right], 1\\right), \\left(1, \\left[\\left(1,\\,1\\right)\\right], 1\\right)\\right]</script></html>"
      ],
      "text/plain": [
       "[(-1, [(1, -1)], 1), (1, [(1, 1)], 1)]"
      ]
     },
     "metadata": {},
     "output_type": "display_data"
    }
   ],
   "source": [
    "display(sigma_x.eigenvectors_right())\n",
    "display(sigma_y.eigenvectors_right())\n",
    "display(sigma_z.eigenvectors_right())"
   ]
  },
  {
   "cell_type": "markdown",
   "metadata": {},
   "source": [
    "### Let's Expand the 2x2 Unitary Complex Matrix to 4x4 Quaternion Matrix"
   ]
  },
  {
   "cell_type": "code",
   "execution_count": 27,
   "metadata": {},
   "outputs": [
    {
     "data": {
      "text/html": [
       "<html><script type=\"math/tex; mode=display\">\\newcommand{\\Bold}[1]{\\mathbf{#1}}\\left(\\begin{array}{rr}\n",
       "a_{1} & -b_{1} \\\\\n",
       "b_{1} & a_{1}\n",
       "\\end{array}\\right)</script></html>"
      ],
      "text/plain": [
       "[ a1 -b1]\n",
       "[ b1  a1]"
      ]
     },
     "metadata": {},
     "output_type": "display_data"
    },
    {
     "data": {
      "text/html": [
       "<html><script type=\"math/tex; mode=display\">\\newcommand{\\Bold}[1]{\\mathbf{#1}}\\left(\\begin{array}{rr}\n",
       "c_{1} & -d_{1} \\\\\n",
       "d_{1} & c_{1}\n",
       "\\end{array}\\right)</script></html>"
      ],
      "text/plain": [
       "[ c1 -d1]\n",
       "[ d1  c1]"
      ]
     },
     "metadata": {},
     "output_type": "display_data"
    },
    {
     "data": {
      "text/html": [
       "<html><script type=\"math/tex; mode=display\">\\newcommand{\\Bold}[1]{\\mathbf{#1}}\\left(\\begin{array}{rr}\n",
       "\\left(\\begin{array}{rr}\n",
       "a_{1} & b_{1} \\\\\n",
       "-b_{1} & a_{1}\n",
       "\\end{array}\\right) & \\left(\\begin{array}{rr}\n",
       "c_{1} & d_{1} \\\\\n",
       "-d_{1} & c_{1}\n",
       "\\end{array}\\right) \\\\\n",
       "\\left(\\begin{array}{rr}\n",
       "-c_{1} & d_{1} \\\\\n",
       "-d_{1} & -c_{1}\n",
       "\\end{array}\\right) & \\left(\\begin{array}{rr}\n",
       "a_{1} & -b_{1} \\\\\n",
       "b_{1} & a_{1}\n",
       "\\end{array}\\right)\n",
       "\\end{array}\\right)</script></html>"
      ],
      "text/plain": [
       "[[ a1  b1]\n",
       "[-b1  a1] [ c1  d1]\n",
       "[-d1  c1]]\n",
       "[[-c1  d1]\n",
       "[-d1 -c1] [ a1 -b1]\n",
       "[ b1  a1]]"
      ]
     },
     "metadata": {},
     "output_type": "display_data"
    },
    {
     "data": {
      "text/html": [
       "<html><script type=\"math/tex; mode=display\">\\newcommand{\\Bold}[1]{\\mathbf{#1}}\\left(\\begin{array}{rr}\n",
       "\\left(\\begin{array}{rr}\n",
       "a_{1} & -b_{1} \\\\\n",
       "b_{1} & a_{1}\n",
       "\\end{array}\\right) & \\left(\\begin{array}{rr}\n",
       "-c_{1} & -d_{1} \\\\\n",
       "d_{1} & -c_{1}\n",
       "\\end{array}\\right) \\\\\n",
       "\\left(\\begin{array}{rr}\n",
       "c_{1} & -d_{1} \\\\\n",
       "d_{1} & c_{1}\n",
       "\\end{array}\\right) & \\left(\\begin{array}{rr}\n",
       "a_{1} & b_{1} \\\\\n",
       "-b_{1} & a_{1}\n",
       "\\end{array}\\right)\n",
       "\\end{array}\\right)</script></html>"
      ],
      "text/plain": [
       "[[ a1 -b1]\n",
       "[ b1  a1] [-c1 -d1]\n",
       "[ d1 -c1]]\n",
       "[[ c1 -d1]\n",
       "[ d1  c1] [ a1  b1]\n",
       "[-b1  a1]]"
      ]
     },
     "metadata": {},
     "output_type": "display_data"
    },
    {
     "data": {
      "text/html": [
       "<html><script type=\"math/tex; mode=display\">\\newcommand{\\Bold}[1]{\\mathbf{#1}}\\left(\\left(\\begin{array}{rrrr}\n",
       "a_{1} & b_{1} & c_{1} & d_{1} \\\\\n",
       "-b_{1} & a_{1} & -d_{1} & c_{1} \\\\\n",
       "-c_{1} & d_{1} & a_{1} & -b_{1} \\\\\n",
       "-d_{1} & -c_{1} & b_{1} & a_{1}\n",
       "\\end{array}\\right), \\left(\\begin{array}{rrrr}\n",
       "a_{1} & -b_{1} & -c_{1} & -d_{1} \\\\\n",
       "b_{1} & a_{1} & d_{1} & -c_{1} \\\\\n",
       "c_{1} & -d_{1} & a_{1} & b_{1} \\\\\n",
       "d_{1} & c_{1} & -b_{1} & a_{1}\n",
       "\\end{array}\\right)\\right)</script></html>"
      ],
      "text/plain": [
       "(\n",
       "[ a1  b1  c1  d1]  [ a1 -b1 -c1 -d1]\n",
       "[-b1  a1 -d1  c1]  [ b1  a1  d1 -c1]\n",
       "[-c1  d1  a1 -b1]  [ c1 -d1  a1  b1]\n",
       "[-d1 -c1  b1  a1], [ d1  c1 -b1  a1]\n",
       ")"
      ]
     },
     "execution_count": 27,
     "metadata": {},
     "output_type": "execute_result"
    }
   ],
   "source": [
    "# a bit strange I need ot set the first row conjugated\n",
    "u1 = a1*re+b1*im\n",
    "u2 = c1*re+d1*im\n",
    "\n",
    "display(u1, u2)\n",
    "q4 = Matrix([[u1.conjugate_transpose(),u2.conjugate_transpose()],[-u2,u1]])\n",
    "display(q4)\n",
    "q5 = Matrix([[u1,-u2.conjugate_transpose()],[u2,u1.conjugate_transpose()]])\n",
    "display(q5)\n",
    "\n",
    "ll = list()\n",
    "n = 2\n",
    "count=0\n",
    "for i in range(2):\n",
    "    for l in range(n):\n",
    "        for j in range(2):\n",
    "            for m in range(n):\n",
    "                ll.append(q4[i,j][l,m])\n",
    "                count += 1\n",
    "\n",
    "q4m = matrix(np.array(ll).reshape(2*n,2*n))\n",
    "q4m, q4m.conjugate_transpose()\n"
   ]
  },
  {
   "cell_type": "markdown",
   "metadata": {},
   "source": [
    "### How Pauli Matrices Look Like in Quaternion Form"
   ]
  },
  {
   "cell_type": "code",
   "execution_count": 28,
   "metadata": {},
   "outputs": [
    {
     "data": {
      "text/html": [
       "<html><script type=\"math/tex; mode=display\">\\newcommand{\\Bold}[1]{\\mathbf{#1}}\\left(\\begin{array}{rrrr}\n",
       "1 & 0 & 0 & 0 \\\\\n",
       "0 & 1 & 0 & 0 \\\\\n",
       "0 & 0 & 1 & 0 \\\\\n",
       "0 & 0 & 0 & 1\n",
       "\\end{array}\\right)</script></html>"
      ],
      "text/plain": [
       "[1 0 0 0]\n",
       "[0 1 0 0]\n",
       "[0 0 1 0]\n",
       "[0 0 0 1]"
      ]
     },
     "metadata": {},
     "output_type": "display_data"
    },
    {
     "data": {
      "text/html": [
       "<html><script type=\"math/tex; mode=display\">\\newcommand{\\Bold}[1]{\\mathbf{#1}}\\left(\\begin{array}{rrrr}\n",
       "0 & 1 & 0 & 0 \\\\\n",
       "-1 & 0 & 0 & 0 \\\\\n",
       "0 & 0 & 0 & -1 \\\\\n",
       "0 & 0 & 1 & 0\n",
       "\\end{array}\\right)</script></html>"
      ],
      "text/plain": [
       "[ 0  1  0  0]\n",
       "[-1  0  0  0]\n",
       "[ 0  0  0 -1]\n",
       "[ 0  0  1  0]"
      ]
     },
     "metadata": {},
     "output_type": "display_data"
    },
    {
     "data": {
      "text/html": [
       "<html><script type=\"math/tex; mode=display\">\\newcommand{\\Bold}[1]{\\mathbf{#1}}\\left(\\begin{array}{rrrr}\n",
       "0 & 0 & 1 & 0 \\\\\n",
       "0 & 0 & 0 & 1 \\\\\n",
       "-1 & 0 & 0 & 0 \\\\\n",
       "0 & -1 & 0 & 0\n",
       "\\end{array}\\right)</script></html>"
      ],
      "text/plain": [
       "[ 0  0  1  0]\n",
       "[ 0  0  0  1]\n",
       "[-1  0  0  0]\n",
       "[ 0 -1  0  0]"
      ]
     },
     "metadata": {},
     "output_type": "display_data"
    },
    {
     "data": {
      "text/html": [
       "<html><script type=\"math/tex; mode=display\">\\newcommand{\\Bold}[1]{\\mathbf{#1}}\\left(\\begin{array}{rrrr}\n",
       "0 & 0 & 0 & 1 \\\\\n",
       "0 & 0 & -1 & 0 \\\\\n",
       "0 & 1 & 0 & 0 \\\\\n",
       "-1 & 0 & 0 & 0\n",
       "\\end{array}\\right)</script></html>"
      ],
      "text/plain": [
       "[ 0  0  0  1]\n",
       "[ 0  0 -1  0]\n",
       "[ 0  1  0  0]\n",
       "[-1  0  0  0]"
      ]
     },
     "metadata": {},
     "output_type": "display_data"
    }
   ],
   "source": [
    "m1 = a1*mI + b1*mii + c1*mjj + d1*mkk\n",
    "m2 = a2*mI + b2*mii + c2*mjj + d2*mkk\n",
    "\n",
    "\n",
    "# 1=I, b=c=d=0\n",
    "U_I  = m1.subs({b1:0, c1:0, d1:0})/a1\n",
    "# ii, a=c=d=0\n",
    "U_ii = m1.subs({a1:0, c1:0, d1:0})/b1\n",
    "# jj, a=b=d=0\n",
    "U_jj = m1.subs({a1:0, b1:0, d1:0})/c1\n",
    "# ii, a=c=d=0\n",
    "U_kk = m1.subs({a1:0, b1:0, c1:0})/d1\n",
    "\n",
    "display(U_I, U_ii, U_jj, U_kk)"
   ]
  },
  {
   "cell_type": "markdown",
   "metadata": {},
   "source": [
    "### Symmetry, SU(2) and SO(3)\n",
    "The base of 2x2 unitary complex matrix is Pauli matrices, which forms the representation of SU(2) group, in case if \n",
    "\n",
    "$$ a_1^2 + b_1^2 + c_1^2 + d_1^2 = 1 $$\n",
    "\n",
    "It is the surface of a 4 dimension sphere, which has 2 covers of SO(3) the 3 dimension rotation group. That's the reason electron is 1/2 spin, because it needs to rotate $720^\\circ$ to return to original state"
   ]
  },
  {
   "cell_type": "code",
   "execution_count": 29,
   "metadata": {},
   "outputs": [
    {
     "data": {
      "text/html": [
       "<html><script type=\"math/tex; mode=display\">\\newcommand{\\Bold}[1]{\\mathbf{#1}}\\left(\\begin{array}{rr}\n",
       "a_{1} + i \\, b_{1} & c_{1} + i \\, d_{1} \\\\\n",
       "-c_{1} + i \\, d_{1} & a_{1} - i \\, b_{1}\n",
       "\\end{array}\\right)</script></html>"
      ],
      "text/plain": [
       "[ a1 + I*b1  c1 + I*d1]\n",
       "[-c1 + I*d1  a1 - I*b1]"
      ]
     },
     "metadata": {},
     "output_type": "display_data"
    },
    {
     "data": {
      "text/html": [
       "<html><script type=\"math/tex; mode=display\">\\newcommand{\\Bold}[1]{\\mathbf{#1}}\\left(\\begin{array}{rr}\n",
       "a_{1} - i \\, b_{1} & c_{1} - i \\, d_{1} \\\\\n",
       "-c_{1} - i \\, d_{1} & a_{1} + i \\, b_{1}\n",
       "\\end{array}\\right)</script></html>"
      ],
      "text/plain": [
       "[ a1 - I*b1  c1 - I*d1]\n",
       "[-c1 - I*d1  a1 + I*b1]"
      ]
     },
     "metadata": {},
     "output_type": "display_data"
    },
    {
     "data": {
      "text/html": [
       "<html><script type=\"math/tex; mode=display\">\\newcommand{\\Bold}[1]{\\mathbf{#1}}\\left(\\begin{array}{rr}\n",
       "a_{1}^{2} + b_{1}^{2} + c_{1}^{2} + d_{1}^{2} & 0 \\\\\n",
       "0 & a_{1}^{2} + b_{1}^{2} + c_{1}^{2} + d_{1}^{2}\n",
       "\\end{array}\\right)</script></html>"
      ],
      "text/plain": [
       "[a1^2 + b1^2 + c1^2 + d1^2                         0]\n",
       "[                        0 a1^2 + b1^2 + c1^2 + d1^2]"
      ]
     },
     "metadata": {},
     "output_type": "display_data"
    },
    {
     "data": {
      "text/html": [
       "<html><script type=\"math/tex; mode=display\">\\newcommand{\\Bold}[1]{\\mathbf{#1}}a_{1}^{2} + b_{1}^{2} + c_{1}^{2} + d_{1}^{2}</script></html>"
      ],
      "text/plain": [
       "a1^2 + b1^2 + c1^2 + d1^2"
      ]
     },
     "metadata": {},
     "output_type": "display_data"
    }
   ],
   "source": [
    "q3 = Matrix([[a1-b1*I, c1-d1*I], [-c1-d1*I, a1+b1*I]])\n",
    "q3 = Matrix([[a1+b1*I, c1+d1*I], [-c1+d1*I, a1-b1*I]])\n",
    "display(q3, q3.conjugate())\n",
    "display((q3*q3.conjugate().T).simplify_full())\n",
    "display((q3.det()).simplify_full())"
   ]
  },
  {
   "cell_type": "markdown",
   "metadata": {},
   "source": [
    "### To Be Continue\n",
    "Know what, the electrons are spinning in 4 dimension. What we detected in physics experiments are the projection of the spin with werid quantum probability behavor and observation behaviour.\n",
    "\n",
    "Got a headache to imagine a rotation in 4 dimension. I will come back to this thread later.\n",
    "\n",
    "Simply from philosophy point of view, our physiscal world should not have anything matching the pure mathematical $0$ or $\\infty$. It is understandable people found the smallest size  in physics world is related with Plank constant $\\hbar$ and biggest size is the size of our limited universe. But there must be a topological reason of these konwn sizes. I don't believe Heisenberg Uncertainty Principle is the end point of reasoning."
   ]
  },
  {
   "cell_type": "code",
   "execution_count": null,
   "metadata": {},
   "outputs": [],
   "source": []
  }
 ],
 "metadata": {
  "kernelspec": {
   "display_name": "SageMath 9.1",
   "language": "sage",
   "name": "sagemath9"
  },
  "language_info": {
   "codemirror_mode": {
    "name": "ipython",
    "version": 3
   },
   "file_extension": ".py",
   "mimetype": "text/x-python",
   "name": "python",
   "nbconvert_exporter": "python",
   "pygments_lexer": "ipython3",
   "version": "3.7.3"
  }
 },
 "nbformat": 4,
 "nbformat_minor": 4
}
