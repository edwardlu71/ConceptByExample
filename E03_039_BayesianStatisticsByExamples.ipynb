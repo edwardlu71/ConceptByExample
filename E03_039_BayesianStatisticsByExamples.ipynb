{
 "cells": [
  {
   "cell_type": "markdown",
   "metadata": {},
   "source": [
    "# Bayesian Statistics By Example\n",
    "\n",
    "[Edward Lu](https://github.com/edwardlu71/notebooks)\n",
    "\n",
    "_This is the note from my several days' study on this interesting topic before the end of my unemployment period! It's a quite difficult topic. I have spent several days on it, still at entry level_\n",
    "\n",
    "_I am trying to understand the nature of MCMC, so hopefully can construct an example to simulate the behaviour of phase transition of magnetic structure on Ising model, to verify the exciting result developed using renomalization group theory I learnt 35 years ago in school_\n"
   ]
  },
  {
   "cell_type": "markdown",
   "metadata": {},
   "source": [
    "## Probability of Multiple Random Variables\n",
    "\n",
    "### Joint Probability\n",
    "\n",
    "Probability of events A **and** B, denotes $ P(A\\ and\\ B), P(A \\cap B), P(A, B) $\n",
    "$$ P(A \\cap B) = P(B|A) P(A) =  P(A|B) P(B) $$\n",
    "\n",
    "### Marginal Probability\n",
    "\n",
    "Probability of an event for one random variable, irrespective of the outcome of another random variable. \n",
    "$$ P(X=A) = \\sum_{i}^{all y} P(X=A \\cap Y=y_i) $$\n",
    "\n",
    "### Conditional Probability\n",
    "\n",
    "Probability of events A **given** B, denotes $ P(A\\ given\\ B), P(A | B) $\n",
    "\n",
    "$$ P(A|B) = \\frac{P(B|A) P(A)}{P(B)}  $$"
   ]
  },
  {
   "cell_type": "code",
   "execution_count": 1,
   "metadata": {},
   "outputs": [
    {
     "name": "stdout",
     "output_type": "stream",
     "text": [
      "True\n",
      "True\n",
      "True\n"
     ]
    }
   ],
   "source": [
    "# Problem: Suppose there is a school having 60% boys and 40% girls as students. There are 30 Asians students, 20 of them boys and 10 girls\n",
    "# An observer sees a girl student from a distance. What is the probability this student is an Asian?\n",
    "\n",
    "# A is the event seeing a girl\n",
    "# B is the event seeing an Asian\n",
    "# (A^B) is the probability an Asian girl\n",
    "# (A|B) is the probability a seen Asian is a girl\n",
    "# (B|A) is the probability a seen girl is Asian\n",
    "\n",
    "PA = 40/100       # P(A)\n",
    "PB = 30/100       # P(B)\n",
    "PAnB = 10/100     # P(A^B)\n",
    "PAB = 10/30       # P(A|B)\n",
    "PBA = 10/40       # P(B|A)\n",
    "\n",
    "print(round(PAnB,10) == round(PAB*PB, 10))\n",
    "print(round(PAnB,10) == round(PBA*PA, 10))\n",
    "print(round(PAB,10) == round(PBA*PA/PB, 10))"
   ]
  },
  {
   "cell_type": "markdown",
   "metadata": {},
   "source": [
    "## Bayesian Statistics\n",
    "\n",
    "In regular Markov chain models, we are usually interested in finding the stationary distrtibution $\\pi$ for a giving transition T\n",
    "$$ \\large \\pi^T T = \\pi^T \\tag{1}$$\n",
    "\n",
    "In MCMC, we fix the stationary distribution to be the posterior distribution, and look for a transition kernel $T$ that will converge to this stationary distribution.\n",
    "\n",
    "$$ \\begin{align} \n",
    "P(\\theta|X) & = \\frac{P(X|\\theta) P(\\theta)}{P(X)} \\tag{2} \\\\\n",
    "P(X) & = \\int d\\theta^* P(X|\\theta^*) P(\\theta^*) \n",
    "\\end{align} $$\n",
    "\n",
    "where x is observation, $\\theta$ is model with different parameters. Going that way, $P(X|\\theta)$ is called **likelihood**; $P(\\theta)$ is called **prior probability**. $p(X)$ is a normalizing constant also known as the evidence or marginal likelihood.\n",
    "\n",
    "**Likelihood** measures the goodness of fit of a statistical model to a sample of data for given values of the unknown parameters\n",
    "\n",
    "**Prior probability distribution** of an uncertain quantity is the probability distribution **from one's beliefs** about this quantity before some evidence is taken into account. The quantity means paramter of the likelihood model, i.e. $\\mu$ or $\\sigma$ for a normal distribution. \n",
    "\n",
    "**[Conjugate priors](https://en.wikipedia.org/wiki/Conjugate_prior)** when a family of conjugate priors exists, choosing a prior from that family simplifies calculation of the posterior distribution. The wiki link shows the list of conjugate prior cooresponding to the likelihood distributions and model parameters.\n",
    "\n",
    "**Acceptance ratio** instead of calculating the real value of $P(\\theta|X)$, calculate the ration $\\large \\frac{P(\\theta_{1}|X)}{P(\\theta_{0}|X)}$ can help to remove the difficult part of $P(X)$ from the formula. When the ratio > 1, that means the parameter $\\theta_{1}$ is better fitting the observation than $\\theta_{0}$\n"
   ]
  },
  {
   "cell_type": "code",
   "execution_count": 2,
   "metadata": {},
   "outputs": [],
   "source": [
    "%matplotlib inline\n",
    "import matplotlib.pyplot as plt\n",
    "from IPython.display import display, Math, Latex\n",
    "from IPython.core.display import Image\n",
    "\n",
    "import seaborn as sns\n",
    "# settings for seaborn plotting style\n",
    "sns.set(color_codes=True)\n",
    "# settings for seaborn plot sizes\n",
    "sns.set(rc={'figure.figsize':(10, 5)})\n",
    "#sns.set_context('notebook', font_scale=1.5)\n",
    "\n",
    "from scipy.stats import uniform, norm, binom, bernoulli, poisson, beta, gamma, boltzmann, expon\n",
    "import numpy as np\n",
    "from sympy import init_printing, symbols, simplify, expand, Matrix\n",
    "init_printing()"
   ]
  },
  {
   "cell_type": "markdown",
   "metadata": {},
   "source": [
    "## Island hopping Problem\n",
    "\n",
    "_for the demonstration of Metropolis–Hastings algorithm, learned from the marvelous materies fron Duke university _\n",
    "\n",
    "a politician visiting a chain of islands to canvas support - being callow, the politician uses a simple rule to determine which island to visit next. Each day, the politician chooses a neighboring island and compares the populations there with the population of the current island. If the neighboring island has a larger population, the politician goes over. If the neighboring island has a smaller population, then the politician visits with probability $\\large p = \\frac{p_\\text{neighbor}}{p_\\text{current}}$; otherwise the politician stays on the same island. After doing this for many days, the politician will end up spending time on each island proportional to the population of each island - in other words, estimating the distribution of island populations correctly. "
   ]
  },
  {
   "cell_type": "code",
   "execution_count": 3,
   "metadata": {},
   "outputs": [],
   "source": [
    "def make_islands(n, low=10, high=101):\n",
    "    islands = np.random.randint(low, high, n+2)\n",
    "    islands[0] = 0\n",
    "    islands[-1] = 0\n",
    "    return islands"
   ]
  },
  {
   "cell_type": "code",
   "execution_count": 4,
   "metadata": {},
   "outputs": [
    {
     "data": {
      "text/plain": [
       "array([ 0, 69, 38, 42, 41, 58, 17, 11, 60, 32, 81,  0])"
      ]
     },
     "execution_count": 4,
     "metadata": {},
     "output_type": "execute_result"
    }
   ],
   "source": [
    "islands = make_islands(10)\n",
    "islands"
   ]
  },
  {
   "cell_type": "code",
   "execution_count": 5,
   "metadata": {},
   "outputs": [],
   "source": [
    "def hop(islands, start=1, niter=1000):\n",
    "    pos = start\n",
    "    pop = islands[pos]\n",
    "    thetas = np.zeros(niter+1, dtype='int')\n",
    "    thetas[0] = pos\n",
    "    for i in range(niter):\n",
    "        # generate sample from proposal distribution\n",
    "        k = np.random.choice([-1, 1], 1)\n",
    "        next_pos = pos + k\n",
    "        # evaluate unnormalized target distribution at proposed position\n",
    "        next_pop = islands[next_pos]\n",
    "        # calculate acceptance probability\n",
    "        p = min(1, next_pop/pop)\n",
    "        # use uniform random to decide accept/reject proposal\n",
    "        if np.random.random() < p:\n",
    "            pos = next_pos\n",
    "            pop = next_pop\n",
    "        thetas[i+1] = pos\n",
    "    return thetas"
   ]
  },
  {
   "cell_type": "code",
   "execution_count": 6,
   "metadata": {},
   "outputs": [
    {
     "data": {
      "image/png": "[encoded data removed]",
      "text/latex": [
       "$\\displaystyle 10001$"
      ],
      "text/plain": [
       "10001"
      ]
     },
     "execution_count": 6,
     "metadata": {},
     "output_type": "execute_result"
    }
   ],
   "source": [
    "thetas = hop(islands, start=1, niter=10000)\n",
    "len(thetas)"
   ]
  },
  {
   "cell_type": "code",
   "execution_count": 7,
   "metadata": {},
   "outputs": [
    {
     "data": {
      "image/png": "[encoded data removed]",
      "text/plain": [
       "<Figure size 1152x360 with 2 Axes>"
      ]
     },
     "metadata": {},
     "output_type": "display_data"
    }
   ],
   "source": [
    "fig, (ax, ax2) = plt.subplots(nrows=1, ncols=2, sharey=False, figsize=(16, 5))\n",
    "data = islands[1:-1]\n",
    "data = data/data.sum()\n",
    "sns.barplot(x=np.arange(len(data)), y=data, ax=ax)\n",
    "_ = ax.set(title='original population proportions', xlabel='islands', ylabel='populations');\n",
    "\n",
    "data1 = np.bincount(thetas)[1:]\n",
    "data1 = data1/data1.sum()\n",
    "sns.barplot(x=np.arange(len(data1)), y=data1, ax=ax2)\n",
    "_ = ax2.set(title='Estimated population proportions', xlabel='islands', ylabel='populations');"
   ]
  },
  {
   "cell_type": "markdown",
   "metadata": {},
   "source": [
    "## Generic Theory of Metropolis Hastings Algorithm\n",
    "\n",
    "(IH = Island Hopping example)\n",
    "\n",
    "MCMC is a class of methods. Metropolis-Hastings is a specific implementation of MCMC. MCMC allows us to draw samples from a distribution even if we can’t compute it. It can be used to sample from the posterior distribution over parameters.\n",
    "\n",
    "Suppose we want to sample from a distribution $\\pi$, which we will call the _**target**_ distribution. In many cases, it is very difficult to sample directly from the target distribution. The MH algorithm works by simulating a Markov Chain, whose stationary distribution is $\\pi$, <font color=yellow>in the long run, the samples from the Markov chain **look like** the samples from $\\pi$</font> - _like the distribution of politician staying matching well with the population distribution in IH!_\n",
    "\n",
    "The implementation of MH is to provide a **transition kernel T(y|x)**, a way randomly moving to y, giving current position x, _like IH moving from current island to next one_. T is called **proposal distribution**. _In IH, it is a **random walk** to a neighbour island where $T(y|x) = choice([-1,1])$_. A more common used continuous distribution is N(0,1), says $ T(y|x) = \\large \\frac{1}{\\sqrt{2\\pi}}e^{-\\frac{1}{2}(y-x)^2} $ \n",
    "\n",
    "The Metropolis Hastings Algorithm is implemented following below steps:\n",
    "* initial a starting point, say $x_1$ the first island\n",
    "* for t = 1,2,... i.e. the following days\n",
    "    * sample y from $T(y|x_i)$, consider y as **proposed** value of $x_{t+1}$\n",
    "    * compute the **acceptance probabilty** which is normalised between [0,1], _and the distribution $\\pi(x)$ is defined as a lambda function **target(x)** in the implementation below_\n",
    "        $$ A = \\min \\left( 1, \\frac{\\pi(y)T(x_t|y)}{\\pi(x_t)T(y|x_t)} \\right)  $$\n",
    "        when $T(x_t|y)$ and $T(y|x_t)$ are symmetric, _i.e. in IH they are choice([-1,1]) for both_, it is called **Metropolis Algorithm**\n",
    "        $$ A = \\min \\left( 1, \\frac{\\pi(y)}{\\pi(x_t)} \\right)  $$\n",
    "* with probability $A$ randomly accept the proposed value, and set $x_{t+1}=y$. Otherwise set $x_{t+1}=x_t$. _The randome walk function for proposal(x) is defined as a lambda function in the implementation below_\n",
    "\n",
    "\n"
   ]
  },
  {
   "cell_type": "markdown",
   "metadata": {},
   "source": [
    "# Markov Chain Monte Carlo Method (MCMC)\n",
    "\n",
    "Based on Metropolis algorithem learnt, I created an implementation of MCMC method"
   ]
  },
  {
   "cell_type": "code",
   "execution_count": 8,
   "metadata": {},
   "outputs": [],
   "source": [
    "# Generic MCMC Implementation \n",
    "def mcmc(data, start, proposal, prior, acceptance, niter, nburn=0):\n",
    "    current = start\n",
    "    post = [current]\n",
    "    for i in range(niter):\n",
    "        proposed = proposal(current)\n",
    "        prior_ratio = prior(proposed, current)\n",
    "        p = min(acceptance(data, proposed, current, prior_ratio), 1)\n",
    "        if np.random.random() < p:\n",
    "            current = proposed\n",
    "        post.append(current)\n",
    "    return post[nburn:]\n",
    "\n",
    "# Example of the definition of proposal and acceptance with likelihood functio\n",
    "# proposal_width = 0.5\n",
    "# prior_mu = 0\n",
    "# prior_sd = 1\n",
    "# likelihood_sd = 1\n",
    "# proposal = lambda current: norm(current, proposal_width).rvs()\n",
    "# prior = lambda proposed, current: norm(prior_mu, prior_sd).pdf(proposed)/norm(prior_mu, prior_sd).pdf(current)\n",
    "# acceptance = lambda data, proposed, current, prior_ratio: prior_ratio*np.prod(np.array(norm(proposed, likelihood_sd).pdf(data))/np.array(norm(current, likelihood_sd).pdf(data)))"
   ]
  },
  {
   "cell_type": "markdown",
   "metadata": {},
   "source": [
    "### Generate data samples for the test\n",
    "\n",
    "The data is generated from normal distribution for the following demonstration. \n",
    "*Don't set the sample size higher than 2000. The calculation of long prod for likelihood needs improve, most likely mathematically.*"
   ]
  },
  {
   "cell_type": "code",
   "execution_count": 9,
   "metadata": {},
   "outputs": [
    {
     "name": "stdout",
     "output_type": "stream",
     "text": [
      "1.5390213592563606 0.9985862010213059\n"
     ]
    }
   ],
   "source": [
    "# Generate Data for test\n",
    "mu = 1.5\n",
    "sigma = 1\n",
    "sample_size = 500\n",
    "data = norm(mu, sigma).rvs(sample_size)\n",
    "\n",
    "# the data generated. we pretect not knowing the mu. actually scipy has the function call \"fit\" to find out the parameters of the data\n",
    "m, s = norm.fit(data)\n",
    "print(m, s)"
   ]
  },
  {
   "cell_type": "markdown",
   "metadata": {},
   "source": [
    "## Run the MCMC Implementation\n",
    "\n",
    "What do we get? We get the distribution of the predicted $\\mu$ from the given data sample. When data sample size increase, we get better posterior distribution indicating higher certainty of the model parameter(s)"
   ]
  },
  {
   "cell_type": "code",
   "execution_count": 10,
   "metadata": {},
   "outputs": [
    {
     "data": {
      "image/png": "[encoded data removed]",
      "text/plain": [
       "<Figure size 1440x864 with 3 Axes>"
      ]
     },
     "metadata": {},
     "output_type": "display_data"
    }
   ],
   "source": [
    "# define the proposal and the acceptance with likelihood function\n",
    "proposal_width = 0.5\n",
    "prior_mu = 0\n",
    "prior_sd = 1\n",
    "likelihood_sd = 1\n",
    "proposal = lambda current: norm(current, proposal_width).rvs()\n",
    "prior = lambda proposed, current: norm(prior_mu, prior_sd).pdf(proposed)/norm(prior_mu, prior_sd).pdf(current)\n",
    "acceptance = lambda data, proposed, current, prior_ratio: prior_ratio*np.prod(np.array(norm(proposed, likelihood_sd).pdf(data))/np.array(norm(current, likelihood_sd).pdf(data)))\n",
    "\n",
    "# Feed the data to analyze the certainty of mu. More sample data will result sharper posterior distribution, with higher certainty \n",
    "post = mcmc(data, 0.1, proposal, prior, acceptance, niter=1000, nburn=5)\n",
    "\n",
    "fig = plt.subplots(figsize=(20, 12))\n",
    "ax = plt.subplot(2, 2, 1)\n",
    "ax.set_xlabel(\"P\")\n",
    "ax.hist(data, 40, density=True, linewidth=2, label='Data');\n",
    "prior_x = np.linspace(-5, 5, 100)\n",
    "prior_y = norm(prior_mu, prior_sd).pdf(prior_x)\n",
    "ax.plot(prior_x, prior_y, c='brown', linestyle='-.', alpha=0.5, label='Prior', lw=5)\n",
    "ax3 = ax.twinx()\n",
    "ax3.hist(post, 40, histtype='step', color='red', density=True, linewidth=2, label='Posterior');\n",
    "\n",
    "leg = ax.legend()\n",
    "leg = ax3.legend(loc='upper left')\n",
    "\n",
    "ax2 = plt.subplot(2, 2, 2)\n",
    "ax2.set_xlabel(\"mu\")\n",
    "ax2.hist(post, 40, histtype='step', color='red', density=True, linewidth=2, label='Posterior');\n",
    "\n",
    "leg = ax2.legend()\n",
    "\n",
    "plt.autoscale(tight=True)"
   ]
  },
  {
   "cell_type": "code",
   "execution_count": null,
   "metadata": {},
   "outputs": [],
   "source": []
  }
 ],
 "metadata": {
  "kernelspec": {
   "display_name": "Python 3",
   "language": "python",
   "name": "python3"
  },
  "language_info": {
   "codemirror_mode": {
    "name": "ipython",
    "version": 3
   },
   "file_extension": ".py",
   "mimetype": "text/x-python",
   "name": "python",
   "nbconvert_exporter": "python",
   "pygments_lexer": "ipython3",
   "version": "3.8.5"
  }
 },
 "nbformat": 4,
 "nbformat_minor": 4
}
