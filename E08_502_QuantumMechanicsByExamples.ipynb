{
 "cells": [
  {
   "cell_type": "markdown",
   "metadata": {},
   "source": [
    "# Quantum Mechanis By Examples\n",
    "[Edward Lu](https://github.com/edwardlu71/notebooks)"
   ]
  },
  {
   "cell_type": "code",
   "execution_count": 1,
   "metadata": {},
   "outputs": [],
   "source": [
    "%matplotlib inline\n",
    "import matplotlib.pyplot as plt\n",
    "import numpy as np\n",
    "from sympy import init_printing, symbols, simplify, expand, diff, solve\n",
    "from sympy.physics.quantum import *\n",
    "from IPython.display import display\n",
    "init_printing()"
   ]
  },
  {
   "cell_type": "markdown",
   "metadata": {},
   "source": [
    "There are three equivalent ways to describe quantum theory: [Schrödinger Equation](https://en.wikipedia.org/wiki/Schr%C3%B6dinger_equation), [Dirac Notation](https://en.wikipedia.org/wiki/Bra%E2%80%93ket_notation) and [Feynman's Path Integral formulation](https://en.wikipedia.org/wiki/Path_integral_formulation)\n",
    "\n",
    "## Schrödinger Equation\n",
    "\n",
    "$$i \\hbar \\frac{\\partial}{\\partial t}\\Psi(\\mathbf{r},t) = (-\\frac{\\hbar^2}{2m}\\nabla^2 + V(\\mathbf{r},t)) \\Psi(\\mathbf{r},t)$$\n",
    "\n",
    "- $ \\psi(\\mathbf{r}, t) $ : wave function of possibility finding particle at $\\mathbf{r}$ at time t. It represent a state of the system. \n",
    "- $\\hbar$ : [Planck constant](https://en.wikipedia.org/wiki/Planck_constant)\n",
    "- $ V(\\mathbf{r}, t) $ : potential energy of the particle with mass m at $\\mathbf{r}$ at time t\n",
    "\n",
    "### Proof\n",
    "\n",
    "- Particles in free state has relation between kinetic energy $\\mathbf{E}$ and momentum $\\mathbf{p}$ : $ \\mathbf{E} = \\mathbf{p}^2/2m $\n",
    "- [de Broglie formula](https://en.wikipedia.org/wiki/Matter_wave) for matter waves: $ \\mathbf{p} = \\hbar \\mathbf{k}, \\mathbf{E} = \\hbar \\omega$ where k is wave vector $ |k| = 2\\pi/\\lambda$\n",
    "- according to de Broglie, particle also behaves like wave, so from statistic theory for a particle with given energy $\\mathbf{E}$ and momentum $\\mathbf{p}$ corresponding to single frequency of wave, we have\n",
    "$$ \\psi(\\mathbf{r}, t) \\propto \\large e^{i(\\mathbf{k} \\cdot \\mathbf{r}-\\omega t)} $$\n",
    "\n",
    "We then have relations listed below to prove Schrödinger Equation <br>\n",
    "$$ \\begin{align} i \\hbar \\frac{\\partial}{\\partial t}\\Psi & = \\mathbf{E}\\Psi  \\\\\n",
    "                -i \\hbar \\nabla\\Psi & = \\mathbf{p} \\Psi \\\\\n",
    "                - \\hbar^2 \\nabla^2 \\Psi & = \\mathbf{p}^2 \\Psi \\end{align} $$"
   ]
  },
  {
   "cell_type": "markdown",
   "metadata": {},
   "source": [
    "## Dirac Notation\n",
    "Generic form of time dependant Schrödinger equation, where $\\hat{H}$ is a [Hamiltonian operator](https://en.wikipedia.org/wiki/Hamiltonian_(quantum_mechanics)) defined on Hilbert space\n",
    "$$ i \\hbar \\frac{\\partial}{\\partial t}\\left|\\psi\\right\\rangle = \\hat{H} \\left|\\psi\\right\\rangle $$\n",
    "For time independant form, means stationary states corresponding to measurable physics states of the system, is a set of eigenvalues (energy levels) and eigenvectors (stable wave functions)\n",
    "\n",
    "$$ \\hat{H} \\left|\\psi\\right\\rangle = \\mathbf{E} \\left|\\psi\\right\\rangle $$\n",
    "\n",
    "where the expectation of operator $\\hat{A}$ is $ \\displaystyle \\left\\langle \\psi \\right|\\hat{A} {\\left|\\psi\\right\\rangle }$. Here $ \\displaystyle \\left\\langle \\psi \\right|$ is the Hermitian transpose  (transpose + complex conjugate) of ${\\left|\\psi\\right\\rangle }$\n"
   ]
  },
  {
   "cell_type": "markdown",
   "metadata": {},
   "source": [
    "## Feynman's Path Integral Theory\n",
    "Path integral from point a to b is defined as \n",
    "$$ \\mathcal{K}(b, a) = \\int_{a}^{b} \\large \\large e^{\\frac{i}{\\hbar} S(x, \\dot{x})} \\small \\mathcal{D}x(t) $$\n",
    "\n",
    "where S denotes action, x is the possible path, Dx means integral on all possible path\n",
    "## Review of Classic Mechanics\n",
    "\n",
    "Action is defined as \n",
    "$$ \\mathcal{S} = \\int_{t_{b}}^{t_{a}} \\mathcal{L}(\\dot{x}, x, t) dt $$\n",
    "where the lagrange function of a particle is\n",
    "$$ \\begin{align}  \\mathcal{L} & = \\frac{1}{2} m \\dot{x}^2 - V(x, t) \\\\\n",
    "F & = \\frac{\\partial \\mathcal{L}}{\\partial x} \\\\\n",
    "p & = \\frac{\\partial \\mathcal{L}}{\\partial \\dot{x}} \\\\\n",
    "E & = \\mathcal{L} - \\dot{x} p \\end{align}\n",
    "$$\n",
    "\n",
    "The stationary function satisfies Eule-Lagrange equation:\n",
    "$$ \\large \\frac{d}{dt}\\frac{\\partial \\mathcal{L}}{\\partial \\dot{x}} - \\frac{\\partial \\mathcal{L}}{\\partial x} = 0 $$\n"
   ]
  },
  {
   "cell_type": "markdown",
   "metadata": {},
   "source": [
    "## Heisenberg Uncertainty Principle\n",
    "\n",
    "$$ \\begin{align} \\left<\\hat{A}\\right> & = \\left<\\psi\\right|\\hat{A}\\left|\\psi\\right> \\\\\n",
    "\\Delta A & = \\hat{A} - \\left<\\hat{A}\\right> \\\\\n",
    "\\sigma_{A}^2 & = \\left<\\hat{A}\\right>^2 - \\left<\\hat{A}^2\\right> \\\\\n",
    "\\sigma_{A}^2\\sigma_{B}^2 & \\geq |\\left<\\Delta A\\Delta B\\right>|^2 \\geq \\frac{1}{4}|\\left<[A, B]\\right>|^2 \\\\\n",
    "\\sigma_{A}\\sigma_{B} & \\geq \\frac{1}{2}|\\left<[A, B]\\right>| \\\\\n",
    "\\end{align} $$\n",
    "\n",
    "where $\\displaystyle [A, B] $ is a commutator, meaning $\\displaystyle A B - B A$. If the operators are location and momentum, we have\n",
    "$$ \\begin{align} \\hat{A} & = \\hat{x} = x \\\\\n",
    "\\hat{B} & = \\hat{p_{x}} = -i \\hbar \\frac{\\partial}{\\partial x} \\\\\n",
    "\\sigma_{x}\\sigma_{p} & \\geq \\frac{\\hbar}{2}\n",
    "\\end{align} $$"
   ]
  },
  {
   "cell_type": "code",
   "execution_count": 2,
   "metadata": {},
   "outputs": [],
   "source": [
    "phi, psi = Bra('phi'), Ket('psi')"
   ]
  },
  {
   "cell_type": "code",
   "execution_count": 3,
   "metadata": {},
   "outputs": [
    {
     "data": {
      "image/png": "[encoded data removed]",
      "text/latex": [
       "$\\displaystyle \\left\\langle \\phi \\right. {\\left|\\psi\\right\\rangle }$"
      ],
      "text/plain": [
       "⟨φ❘ψ⟩"
      ]
     },
     "execution_count": 3,
     "metadata": {},
     "output_type": "execute_result"
    }
   ],
   "source": [
    "phi*psi"
   ]
  },
  {
   "cell_type": "code",
   "execution_count": 4,
   "metadata": {},
   "outputs": [],
   "source": [
    "# to be continued"
   ]
  },
  {
   "cell_type": "code",
   "execution_count": null,
   "metadata": {},
   "outputs": [],
   "source": []
  }
 ],
 "metadata": {
  "kernelspec": {
   "display_name": "Python 3",
   "language": "python",
   "name": "python3"
  },
  "language_info": {
   "codemirror_mode": {
    "name": "ipython",
    "version": 3
   },
   "file_extension": ".py",
   "mimetype": "text/x-python",
   "name": "python",
   "nbconvert_exporter": "python",
   "pygments_lexer": "ipython3",
   "version": "3.8.5"
  }
 },
 "nbformat": 4,
 "nbformat_minor": 4
}
