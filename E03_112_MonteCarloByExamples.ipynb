{
 "cells": [
  {
   "cell_type": "markdown",
   "metadata": {},
   "source": [
    "# Monte Carlo By Examples\n",
    "\n",
    "[Edward Lu](https://github.com/edwardlu71/notebooks)"
   ]
  },
  {
   "cell_type": "code",
   "execution_count": 1,
   "metadata": {},
   "outputs": [],
   "source": [
    "%matplotlib inline\n",
    "import matplotlib.pyplot as plt\n",
    "import numpy as np\n",
    "import math\n",
    "import random\n",
    "from datetime import datetime\n",
    "random.seed(datetime.now())"
   ]
  },
  {
   "cell_type": "markdown",
   "metadata": {},
   "source": [
    "## Calculate $\\large \\pi$"
   ]
  },
  {
   "cell_type": "code",
   "execution_count": 2,
   "metadata": {},
   "outputs": [],
   "source": [
    "def calculate_pi(samples):\n",
    "    in_circle = 0\n",
    "    for _ in range(samples):\n",
    "        x = random.random()\n",
    "        y = random.random()\n",
    "        if math.sqrt(x**2 + y**2) < 1:\n",
    "            in_circle += 1\n",
    "    pi = float(in_circle) / samples * 4\n",
    "    print(f\"estimated pi = {pi} from {samples} samples\")    "
   ]
  },
  {
   "cell_type": "code",
   "execution_count": 3,
   "metadata": {},
   "outputs": [
    {
     "name": "stdout",
     "output_type": "stream",
     "text": [
      "estimated pi = 3.118 from 10000 samples\n"
     ]
    }
   ],
   "source": [
    "samples = 10000\n",
    "calculate_pi(samples)"
   ]
  },
  {
   "cell_type": "markdown",
   "metadata": {},
   "source": [
    "## Calculate Integral $$ \\int_{-1}^{1}e^{-x^2} = \\sqrt{\\pi} * Erf(1) $$"
   ]
  },
  {
   "cell_type": "code",
   "execution_count": 4,
   "metadata": {},
   "outputs": [],
   "source": [
    "def distribution_func(x):\n",
    "    return math.exp(-x**2)"
   ]
  },
  {
   "cell_type": "code",
   "execution_count": 5,
   "metadata": {},
   "outputs": [],
   "source": [
    "def calculate_integral(samples):\n",
    "    under_curve = 0\n",
    "    for _ in range(samples):\n",
    "        if random.random() < distribution_func(random.random()):\n",
    "            under_curve += 1\n",
    "    result = float(under_curve) / samples * 2\n",
    "    print(f\"estimated result = {result} from {samples} samples; accurate result = {math.erf(1) * math.sqrt(math.pi)}\")    "
   ]
  },
  {
   "cell_type": "code",
   "execution_count": 6,
   "metadata": {},
   "outputs": [
    {
     "name": "stdout",
     "output_type": "stream",
     "text": [
      "estimated result = 1.5006 from 10000 samples; accurate result = 1.493648265624854\n"
     ]
    }
   ],
   "source": [
    "samples = 10000\n",
    "calculate_integral(samples)"
   ]
  },
  {
   "cell_type": "markdown",
   "metadata": {},
   "source": [
    "## Random Walks"
   ]
  },
  {
   "cell_type": "code",
   "execution_count": 7,
   "metadata": {},
   "outputs": [],
   "source": [
    "def random_walk(steps):\n",
    "    x, y = 0, 0\n",
    "    for _ in range(steps):\n",
    "        (dx, dy) = random.choice([(0, 1), (0, -1), (1, 0), (-1, 0)])\n",
    "        x += dx\n",
    "        y += dy\n",
    "    return (x, y)    "
   ]
  },
  {
   "cell_type": "code",
   "execution_count": 8,
   "metadata": {},
   "outputs": [],
   "source": [
    "def random_walk_histogram(samples, steps):\n",
    "    distances = []\n",
    "    for _ in range(samples):\n",
    "        walk = random_walk(steps)\n",
    "        distances.append(abs(walk[0]) + abs(walk[1]))\n",
    "    fig, ax = plt.subplots(figsize=(20, 5))\n",
    "    plt.hist(distances, bins=range(steps))\n",
    "    plt.xlabel(\"Distance\")\n",
    "    plt.ylabel(\"Frequency\")\n",
    "    plt.grid(True)\n",
    "    plt.show()"
   ]
  },
  {
   "cell_type": "code",
   "execution_count": 9,
   "metadata": {},
   "outputs": [
    {
     "data": {
      "image/png": "[encoded data removed]",
      "text/plain": [
       "<Figure size 1440x360 with 1 Axes>"
      ]
     },
     "metadata": {
      "needs_background": "light"
     },
     "output_type": "display_data"
    }
   ],
   "source": [
    "random_walk_histogram(10000, 100)"
   ]
  },
  {
   "cell_type": "markdown",
   "metadata": {},
   "source": [
    "# Rabbit Catch\n",
    "\n",
    "### There are five rabbit holes in one line numbered from 1 to 5. A rabbit always sleeps in one of them and move to the next one on next day. If a farmer waits at hole #3, what's the expected days he can catch the rabbit."
   ]
  },
  {
   "cell_type": "code",
   "execution_count": 10,
   "metadata": {},
   "outputs": [],
   "source": [
    "number_of_holes = 5\n",
    "waiting_at_hole = 3\n",
    "\n",
    "def rabbit_walk():\n",
    "    days = 1\n",
    "    hole = random.randint(1, number_of_holes) # first day\n",
    "    while hole != waiting_at_hole:\n",
    "        if hole == 1:\n",
    "            hole = 2\n",
    "        elif hole == number_of_holes:\n",
    "            hole = number_of_holes - 1\n",
    "        else:\n",
    "            hole += random.choice([-1, 1])\n",
    "        days += 1\n",
    "    return days\n",
    "\n",
    "def rabbit_catch_histogram(samples):\n",
    "    caught_on_day = []\n",
    "    for _ in range(samples):\n",
    "        caught_on_day.append(rabbit_walk())\n",
    "    print(f\"maximum simulation days {max(caught_on_day)}\")\n",
    "    print(f\"average simulation days {sum(caught_on_day)/samples}\")\n",
    "    fig, ax = plt.subplots(figsize=(20, 4))\n",
    "    plt.hist(caught_on_day, bins=max(caught_on_day), edgecolor='black', linewidth=1)\n",
    "    plt.xlabel(\"days\")\n",
    "    plt.ylabel(\"Frequency\")\n",
    "    plt.grid(True)\n",
    "    plt.show()      "
   ]
  },
  {
   "cell_type": "code",
   "execution_count": 11,
   "metadata": {},
   "outputs": [
    {
     "name": "stdout",
     "output_type": "stream",
     "text": [
      "maximum simulation days 27\n",
      "average simulation days 3.8293\n"
     ]
    },
    {
     "data": {
      "image/png": "[encoded data removed]",
      "text/plain": [
       "<Figure size 1440x288 with 1 Axes>"
      ]
     },
     "metadata": {
      "needs_background": "light"
     },
     "output_type": "display_data"
    }
   ],
   "source": [
    "rabbit_catch_histogram(10000)"
   ]
  },
  {
   "cell_type": "markdown",
   "metadata": {},
   "source": [
    "### Giving condition there are 2k+1 holes in one line, and the farmer waits at the hole #k+1. show the graph of the expected days vs k"
   ]
  },
  {
   "cell_type": "code",
   "execution_count": 12,
   "metadata": {},
   "outputs": [],
   "source": [
    "def rabbit_walk_k(k):\n",
    "    number_of_holes = 2 * k + 1\n",
    "    waiting_at_hole = k + 1\n",
    "    days = 1\n",
    "    hole = random.randint(1, number_of_holes) # first day\n",
    "    while hole != waiting_at_hole:\n",
    "        if hole == 1:\n",
    "            hole = 2\n",
    "        elif hole == number_of_holes:\n",
    "            hole = number_of_holes - 1\n",
    "        else:\n",
    "            hole += random.choice([-1, 1])\n",
    "        days += 1\n",
    "    return days\n",
    "\n",
    "def rabbit_catch_k(samples, k):\n",
    "    caught_on_day = []\n",
    "    for _ in range(samples):\n",
    "        caught_on_day.append(rabbit_walk_k(k))\n",
    "    return sum(caught_on_day)/samples"
   ]
  },
  {
   "cell_type": "code",
   "execution_count": 13,
   "metadata": {},
   "outputs": [
    {
     "data": {
      "image/png": "[encoded data removed]",
      "text/plain": [
       "<Figure size 1440x288 with 1 Axes>"
      ]
     },
     "metadata": {
      "needs_background": "light"
     },
     "output_type": "display_data"
    }
   ],
   "source": [
    "samples = 1000\n",
    "ks = list(range(1, 30))\n",
    "func_ks = []\n",
    "for i in ks:\n",
    "    func_ks.append(rabbit_catch_k(samples, i))\n",
    "fig, ax = plt.subplots(figsize=(20, 4))\n",
    "ax.plot(ks, func_ks)\n",
    "plt.xlabel(\"k\")\n",
    "plt.ylabel(\"expected days\")\n",
    "plt.grid(True)\n",
    "plt.show()"
   ]
  },
  {
   "cell_type": "code",
   "execution_count": 14,
   "metadata": {},
   "outputs": [],
   "source": [
    "def rabbit_catch_histogram_k(samples, k):\n",
    "    caught_on_day = []\n",
    "    for _ in range(samples):\n",
    "        caught_on_day.append(rabbit_walk_k(k))\n",
    "    print(f\"maximum simulation days {max(caught_on_day)}\")\n",
    "    print(f\"average simulation days {sum(caught_on_day)/samples}\")\n",
    "    fig, ax = plt.subplots(figsize=(20, 4))\n",
    "    plt.hist(caught_on_day, bins=min(max(caught_on_day),50), edgecolor='black', linewidth=1)\n",
    "    plt.xlabel(\"days\")\n",
    "    plt.ylabel(\"Frequency\")\n",
    "    plt.grid(True)\n",
    "    plt.show()      "
   ]
  },
  {
   "cell_type": "code",
   "execution_count": 15,
   "metadata": {},
   "outputs": [
    {
     "name": "stdout",
     "output_type": "stream",
     "text": [
      "maximum simulation days 87\n",
      "average simulation days 7.3742\n"
     ]
    },
    {
     "data": {
      "image/png": "[encoded data removed]",
      "text/plain": [
       "<Figure size 1440x288 with 1 Axes>"
      ]
     },
     "metadata": {
      "needs_background": "light"
     },
     "output_type": "display_data"
    }
   ],
   "source": [
    "rabbit_catch_histogram_k(10000, 3)"
   ]
  }
 ],
 "metadata": {
  "kernelspec": {
   "display_name": "Python 3",
   "language": "python",
   "name": "python3"
  },
  "language_info": {
   "codemirror_mode": {
    "name": "ipython",
    "version": 3
   },
   "file_extension": ".py",
   "mimetype": "text/x-python",
   "name": "python",
   "nbconvert_exporter": "python",
   "pygments_lexer": "ipython3",
   "version": "3.8.5"
  }
 },
 "nbformat": 4,
 "nbformat_minor": 4
}
