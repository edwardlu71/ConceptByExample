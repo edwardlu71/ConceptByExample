{
 "cells": [
  {
   "cell_type": "markdown",
   "metadata": {},
   "source": [
    "# Rolling Dice Problems\n",
    "\n",
    "[Edward Lu](https://github.com/edwardlu71/notebooks)"
   ]
  },
  {
   "cell_type": "code",
   "execution_count": 1,
   "metadata": {},
   "outputs": [],
   "source": [
    "%display latex\n",
    "%matplotlib inline\n",
    "import matplotlib.pyplot as plt\n",
    "import matplotlib.colors as mcolors\n",
    "import numpy as np\n",
    "import math\n",
    "import random\n",
    "from random import shuffle, choice\n",
    "from datetime import datetime\n",
    "import itertools\n",
    "from math import factorial\n",
    "\n",
    "from sympy import init_printing, symbols, simplify, expand, Matrix, factor, diff, solve\n",
    "from IPython.display import display, Math, Latex\n",
    "from IPython.core.display import Image\n",
    "\n",
    "random.seed(datetime.now())"
   ]
  },
  {
   "cell_type": "code",
   "execution_count": 2,
   "metadata": {},
   "outputs": [],
   "source": [
    "def dice_roller(faces=6):\n",
    "    return random.choice(range(1,faces+1))\n",
    "def dice_roller_n(n=1, faces=6):\n",
    "    dices = []\n",
    "    for i in range(n):\n",
    "        dices.append(random.choice(range(1,faces+1)))\n",
    "    return dices    "
   ]
  },
  {
   "cell_type": "markdown",
   "metadata": {},
   "source": [
    "## Expected times of rolling dice show consecutively n times of a same number"
   ]
  },
  {
   "cell_type": "code",
   "execution_count": 3,
   "metadata": {},
   "outputs": [],
   "source": [
    "def expected_trials_dice_ending_nxx(samples, n=2, x=1):\n",
    "    trials = []\n",
    "    for _ in range(samples):\n",
    "        q = []\n",
    "        q.extend(dice_roller_n(n))\n",
    "        count = n-1\n",
    "        while True:\n",
    "            q.pop(0)\n",
    "            q.append(dice_roller())\n",
    "            count += 1\n",
    "            if q.count(x) == len(q):\n",
    "                break\n",
    "        trials.append(count)\n",
    "    return sum(trials)/len(trials)"
   ]
  },
  {
   "cell_type": "code",
   "execution_count": 4,
   "metadata": {},
   "outputs": [
    {
     "data": {
      "text/html": [
       "<html><script type=\"math/tex; mode=display\">\\newcommand{\\Bold}[1]{\\mathbf{#1}}255.611400000000</script></html>"
      ],
      "text/plain": [
       "255.611400000000"
      ]
     },
     "execution_count": 4,
     "metadata": {},
     "output_type": "execute_result"
    }
   ],
   "source": [
    "RR(expected_trials_dice_ending_nxx(10000, 3, 1))"
   ]
  },
  {
   "cell_type": "markdown",
   "metadata": {},
   "source": [
    "#### Analytic Solution\n",
    "\n",
    "If $n_f$ denotes the number of faces of a die, $E_i$ denotes the expected times to roll a die to see the consective i times number x showing up, we have\n",
    "\n",
    "$$ E_i = E_{i-1} + 1 + \\frac{n_f-1}{n_f} E_i$$\n",
    "\n",
    "means it needs $E_{i-1}$ times for $i-1$ event happening, adding one addition time for the $i_{th}$ event, and with times to spend if it doesn't happen everthing starts over again (note \"doesn't happen\" means the die is showing a number differ from x. That's why the whole sequence starts over again)"
   ]
  },
  {
   "cell_type": "code",
   "execution_count": 5,
   "metadata": {},
   "outputs": [
    {
     "name": "stdout",
     "output_type": "stream",
     "text": [
      "N\tExpected Times for the event to occur \n",
      "1\t6\n",
      "2\t42\n",
      "3\t258\n",
      "4\t1554\n",
      "5\t9330\n",
      "6\t55986\n",
      "7\t335922\n",
      "8\t2015538\n",
      "9\t12093234\n",
      "10\t72559410\n",
      "11\t435356466\n",
      "12\t2612138802\n",
      "13\t15672832818\n",
      "14\t94036996914\n",
      "15\t564221981490\n",
      "16\t3385331888946\n",
      "17\t20311991333682\n",
      "18\t121871948002098\n",
      "19\t731231688012594\n"
     ]
    }
   ],
   "source": [
    "# assume we have a 6 faces standard die\n",
    "print(f\"N\\tExpected Times for the event to occur \")\n",
    "e=6\n",
    "for k in range(1,20):\n",
    "    print(f\"{k}\\t{e}\")\n",
    "    e = 6*(e+1)"
   ]
  },
  {
   "cell_type": "markdown",
   "metadata": {},
   "source": [
    "## How many times is expect to rolled a die to see each side appears twice \n",
    "\n",
    "- We assume 0,1,2 denotes a face appeared 0 time, 1 time and over 2 times\n",
    "- We assume (x,y) denotes a state of seeing a faces being seen once, b faces being seen at least twice, with constraint $x+y\\le6$\n",
    "\n",
    "then we have\n",
    "- Probability to transit from (x,y) to (x+1,y), meaning seeing a new face, is $\\large \\frac{6-x-y}{6}$ \n",
    "- Probability to transit from (x,y) to (x-1,y+1), meaning seeing a face already seen once, is $\\large \\frac{x}{6}$ \n",
    "- Probability to transit from (x,y) to (x,y), meaning seeing a face already seen twice or over, is $\\large \\frac{y}{6}$ \n"
   ]
  },
  {
   "cell_type": "code",
   "execution_count": 6,
   "metadata": {},
   "outputs": [
    {
     "name": "stdout",
     "output_type": "stream",
     "text": [
      "the Markov Chain has 28 states: \n",
      "[(0, 0), (1, 0), (2, 0), (3, 0), (4, 0), (5, 0), (6, 0), (0, 1), (1, 1), (2, 1), (3, 1), (4, 1), (5, 1), (0, 2), (1, 2), (2, 2), (3, 2), (4, 2), (0, 3), (1, 3), (2, 3), (3, 3), (0, 4), (1, 4), (2, 4), (0, 5), (1, 5), (0, 6)]\n"
     ]
    }
   ],
   "source": [
    "# list all of the possible states\n",
    "prod = list(itertools.product(range(7), range(7)))\n",
    "states = sorted([(x,y) for x,y in prod if x+y<=6], key=lambda t: t[1])\n",
    "\n",
    "n = len(states)\n",
    "print(f\"the Markov Chain has {n} states: \\n{states}\")\n",
    "\n",
    "m = np.zeros((n,n))\n",
    "for i,(x,y) in enumerate(states):\n",
    "    for j,(x1,y1) in enumerate(states):\n",
    "        if(x+1==x1 and y==y1):\n",
    "            m[i,j] = 6-x-y\n",
    "        if(x-1==x1 and y+1==y1):\n",
    "            m[i,j] = x\n",
    "        if(x==x1 and y==y1 and y<6):\n",
    "            m[i,j] = y\n",
    "        if(y==y1 and y==6):\n",
    "            m[i,j] = y"
   ]
  },
  {
   "cell_type": "code",
   "execution_count": 7,
   "metadata": {},
   "outputs": [
    {
     "data": {
      "text/html": [
       "<html><script type=\"math/tex; mode=display\">\\newcommand{\\Bold}[1]{\\mathbf{#1}}\\left(\\begin{array}{rrrrrrrrrrrrrrrrrrrrrrrrrrrr}\n",
       "0 & 1 & 0 & 0 & 0 & 0 & 0 & 0 & 0 & 0 & 0 & 0 & 0 & 0 & 0 & 0 & 0 & 0 & 0 & 0 & 0 & 0 & 0 & 0 & 0 & 0 & 0 & 0 \\\\\n",
       "0 & 0 & \\frac{5}{6} & 0 & 0 & 0 & 0 & \\frac{1}{6} & 0 & 0 & 0 & 0 & 0 & 0 & 0 & 0 & 0 & 0 & 0 & 0 & 0 & 0 & 0 & 0 & 0 & 0 & 0 & 0 \\\\\n",
       "0 & 0 & 0 & \\frac{2}{3} & 0 & 0 & 0 & 0 & \\frac{1}{3} & 0 & 0 & 0 & 0 & 0 & 0 & 0 & 0 & 0 & 0 & 0 & 0 & 0 & 0 & 0 & 0 & 0 & 0 & 0 \\\\\n",
       "0 & 0 & 0 & 0 & \\frac{1}{2} & 0 & 0 & 0 & 0 & \\frac{1}{2} & 0 & 0 & 0 & 0 & 0 & 0 & 0 & 0 & 0 & 0 & 0 & 0 & 0 & 0 & 0 & 0 & 0 & 0 \\\\\n",
       "0 & 0 & 0 & 0 & 0 & \\frac{1}{3} & 0 & 0 & 0 & 0 & \\frac{2}{3} & 0 & 0 & 0 & 0 & 0 & 0 & 0 & 0 & 0 & 0 & 0 & 0 & 0 & 0 & 0 & 0 & 0 \\\\\n",
       "0 & 0 & 0 & 0 & 0 & 0 & \\frac{1}{6} & 0 & 0 & 0 & 0 & \\frac{5}{6} & 0 & 0 & 0 & 0 & 0 & 0 & 0 & 0 & 0 & 0 & 0 & 0 & 0 & 0 & 0 & 0 \\\\\n",
       "0 & 0 & 0 & 0 & 0 & 0 & 0 & 0 & 0 & 0 & 0 & 0 & 1 & 0 & 0 & 0 & 0 & 0 & 0 & 0 & 0 & 0 & 0 & 0 & 0 & 0 & 0 & 0 \\\\\n",
       "0 & 0 & 0 & 0 & 0 & 0 & 0 & \\frac{1}{6} & \\frac{5}{6} & 0 & 0 & 0 & 0 & 0 & 0 & 0 & 0 & 0 & 0 & 0 & 0 & 0 & 0 & 0 & 0 & 0 & 0 & 0 \\\\\n",
       "0 & 0 & 0 & 0 & 0 & 0 & 0 & 0 & \\frac{1}{6} & \\frac{2}{3} & 0 & 0 & 0 & \\frac{1}{6} & 0 & 0 & 0 & 0 & 0 & 0 & 0 & 0 & 0 & 0 & 0 & 0 & 0 & 0 \\\\\n",
       "0 & 0 & 0 & 0 & 0 & 0 & 0 & 0 & 0 & \\frac{1}{6} & \\frac{1}{2} & 0 & 0 & 0 & \\frac{1}{3} & 0 & 0 & 0 & 0 & 0 & 0 & 0 & 0 & 0 & 0 & 0 & 0 & 0 \\\\\n",
       "0 & 0 & 0 & 0 & 0 & 0 & 0 & 0 & 0 & 0 & \\frac{1}{6} & \\frac{1}{3} & 0 & 0 & 0 & \\frac{1}{2} & 0 & 0 & 0 & 0 & 0 & 0 & 0 & 0 & 0 & 0 & 0 & 0 \\\\\n",
       "0 & 0 & 0 & 0 & 0 & 0 & 0 & 0 & 0 & 0 & 0 & \\frac{1}{6} & \\frac{1}{6} & 0 & 0 & 0 & \\frac{2}{3} & 0 & 0 & 0 & 0 & 0 & 0 & 0 & 0 & 0 & 0 & 0 \\\\\n",
       "0 & 0 & 0 & 0 & 0 & 0 & 0 & 0 & 0 & 0 & 0 & 0 & \\frac{1}{6} & 0 & 0 & 0 & 0 & \\frac{5}{6} & 0 & 0 & 0 & 0 & 0 & 0 & 0 & 0 & 0 & 0 \\\\\n",
       "0 & 0 & 0 & 0 & 0 & 0 & 0 & 0 & 0 & 0 & 0 & 0 & 0 & \\frac{1}{3} & \\frac{2}{3} & 0 & 0 & 0 & 0 & 0 & 0 & 0 & 0 & 0 & 0 & 0 & 0 & 0 \\\\\n",
       "0 & 0 & 0 & 0 & 0 & 0 & 0 & 0 & 0 & 0 & 0 & 0 & 0 & 0 & \\frac{1}{3} & \\frac{1}{2} & 0 & 0 & \\frac{1}{6} & 0 & 0 & 0 & 0 & 0 & 0 & 0 & 0 & 0 \\\\\n",
       "0 & 0 & 0 & 0 & 0 & 0 & 0 & 0 & 0 & 0 & 0 & 0 & 0 & 0 & 0 & \\frac{1}{3} & \\frac{1}{3} & 0 & 0 & \\frac{1}{3} & 0 & 0 & 0 & 0 & 0 & 0 & 0 & 0 \\\\\n",
       "0 & 0 & 0 & 0 & 0 & 0 & 0 & 0 & 0 & 0 & 0 & 0 & 0 & 0 & 0 & 0 & \\frac{1}{3} & \\frac{1}{6} & 0 & 0 & \\frac{1}{2} & 0 & 0 & 0 & 0 & 0 & 0 & 0 \\\\\n",
       "0 & 0 & 0 & 0 & 0 & 0 & 0 & 0 & 0 & 0 & 0 & 0 & 0 & 0 & 0 & 0 & 0 & \\frac{1}{3} & 0 & 0 & 0 & \\frac{2}{3} & 0 & 0 & 0 & 0 & 0 & 0 \\\\\n",
       "0 & 0 & 0 & 0 & 0 & 0 & 0 & 0 & 0 & 0 & 0 & 0 & 0 & 0 & 0 & 0 & 0 & 0 & \\frac{1}{2} & \\frac{1}{2} & 0 & 0 & 0 & 0 & 0 & 0 & 0 & 0 \\\\\n",
       "0 & 0 & 0 & 0 & 0 & 0 & 0 & 0 & 0 & 0 & 0 & 0 & 0 & 0 & 0 & 0 & 0 & 0 & 0 & \\frac{1}{2} & \\frac{1}{3} & 0 & \\frac{1}{6} & 0 & 0 & 0 & 0 & 0 \\\\\n",
       "0 & 0 & 0 & 0 & 0 & 0 & 0 & 0 & 0 & 0 & 0 & 0 & 0 & 0 & 0 & 0 & 0 & 0 & 0 & 0 & \\frac{1}{2} & \\frac{1}{6} & 0 & \\frac{1}{3} & 0 & 0 & 0 & 0 \\\\\n",
       "0 & 0 & 0 & 0 & 0 & 0 & 0 & 0 & 0 & 0 & 0 & 0 & 0 & 0 & 0 & 0 & 0 & 0 & 0 & 0 & 0 & \\frac{1}{2} & 0 & 0 & \\frac{1}{2} & 0 & 0 & 0 \\\\\n",
       "0 & 0 & 0 & 0 & 0 & 0 & 0 & 0 & 0 & 0 & 0 & 0 & 0 & 0 & 0 & 0 & 0 & 0 & 0 & 0 & 0 & 0 & \\frac{2}{3} & \\frac{1}{3} & 0 & 0 & 0 & 0 \\\\\n",
       "0 & 0 & 0 & 0 & 0 & 0 & 0 & 0 & 0 & 0 & 0 & 0 & 0 & 0 & 0 & 0 & 0 & 0 & 0 & 0 & 0 & 0 & 0 & \\frac{2}{3} & \\frac{1}{6} & \\frac{1}{6} & 0 & 0 \\\\\n",
       "0 & 0 & 0 & 0 & 0 & 0 & 0 & 0 & 0 & 0 & 0 & 0 & 0 & 0 & 0 & 0 & 0 & 0 & 0 & 0 & 0 & 0 & 0 & 0 & \\frac{2}{3} & 0 & \\frac{1}{3} & 0 \\\\\n",
       "0 & 0 & 0 & 0 & 0 & 0 & 0 & 0 & 0 & 0 & 0 & 0 & 0 & 0 & 0 & 0 & 0 & 0 & 0 & 0 & 0 & 0 & 0 & 0 & 0 & \\frac{5}{6} & \\frac{1}{6} & 0 \\\\\n",
       "0 & 0 & 0 & 0 & 0 & 0 & 0 & 0 & 0 & 0 & 0 & 0 & 0 & 0 & 0 & 0 & 0 & 0 & 0 & 0 & 0 & 0 & 0 & 0 & 0 & 0 & \\frac{5}{6} & \\frac{1}{6} \\\\\n",
       "0 & 0 & 0 & 0 & 0 & 0 & 0 & 0 & 0 & 0 & 0 & 0 & 0 & 0 & 0 & 0 & 0 & 0 & 0 & 0 & 0 & 0 & 0 & 0 & 0 & 0 & 0 & 1\n",
       "\\end{array}\\right)</script></html>"
      ],
      "text/plain": [
       "28 x 28 dense matrix over Rational Field (use the '.str()' method to see the entries)"
      ]
     },
     "execution_count": 7,
     "metadata": {},
     "output_type": "execute_result"
    }
   ],
   "source": [
    "# Markov transition matrix for the states\n",
    "M = matrix(m).change_ring(QQ)/6;M"
   ]
  },
  {
   "cell_type": "code",
   "execution_count": 8,
   "metadata": {},
   "outputs": [
    {
     "name": "stdout",
     "output_type": "stream",
     "text": [
      "the expected times rolling a die to see each side appears twice is 24.133869197530863\n"
     ]
    }
   ],
   "source": [
    "Q = M[range(27), range(27)]\n",
    "R = M[range(27), 27]\n",
    "E = (matrix.identity(27)-Q).inverse()\n",
    "print(f\"the expected times rolling a die to see each side appears twice is {sum(E.T).change_ring(RDF)[0]}\")"
   ]
  },
  {
   "cell_type": "code",
   "execution_count": 9,
   "metadata": {},
   "outputs": [
    {
     "name": "stdout",
     "output_type": "stream",
     "text": [
      "Rolls\tProbability\n",
      "=====\t===========\n",
      "1\t0.0\n",
      "2\t0.0\n",
      "3\t0.0\n",
      "4\t0.0\n",
      "5\t0.0\n",
      "6\t0.0\n",
      "7\t0.0\n",
      "8\t0.0\n",
      "9\t0.0\n",
      "10\t0.0\n",
      "11\t0.0\n",
      "12\t0.003438\n",
      "13\t0.014899\n",
      "14\t0.037662\n",
      "15\t0.072749\n",
      "16\t0.119156\n",
      "17\t0.174576\n",
      "18\t0.236148\n",
      "19\t0.301008\n",
      "20\t0.366633\n",
      "21\t0.430996\n",
      "22\t0.492589\n",
      "23\t0.550392\n",
      "24\t0.603787\n"
     ]
    }
   ],
   "source": [
    "print(\"Rolls\\tProbability\")\n",
    "print(\"=====\\t===========\")\n",
    "for i in range(1,25):\n",
    "    print(f\"{i}\\t{round(RR((M**i)[0,27]),6)}\")    "
   ]
  },
  {
   "cell_type": "code",
   "execution_count": 10,
   "metadata": {},
   "outputs": [
    {
     "data": {
      "text/html": [
       "<html><script type=\"math/tex; mode=display\">\\newcommand{\\Bold}[1]{\\mathbf{#1}}\\verb|Figure(432x288)|</script></html>"
      ],
      "text/plain": [
       "<Figure size 432x288 with 0 Axes>"
      ]
     },
     "metadata": {},
     "output_type": "display_data"
    },
    {
     "data": {
      "image/png": "[encoded data removed]",
      "text/plain": [
       "<Figure size 1440x720 with 1 Axes>"
      ]
     },
     "metadata": {},
     "output_type": "display_data"
    }
   ],
   "source": [
    "# plot\n",
    "X = range(1,60)\n",
    "Y = [RR((M**i)[0,27]) for i in X]\n",
    "plt.clf()\n",
    "fig, ax = plt.subplots(figsize=(20, 10))\n",
    "color = 'tab:blue'\n",
    "plt.plot(X, Y,  'o-', color=color, label='Probability', lw=3)\n",
    "plt.axhline(y=0)\n",
    "plt.axvline(x=0)\n",
    "plt.ylabel('%', color=color, fontsize=18)\n",
    "plt.xlabel('rolls', color='black', fontsize=18)\n",
    "plt.grid()\n",
    "plt.legend(loc='upper left')\n",
    "plt.title(\"Probability showing each face twice rolling of a Die\",fontsize=15)\n",
    "plt.show()"
   ]
  },
  {
   "cell_type": "code",
   "execution_count": null,
   "metadata": {},
   "outputs": [],
   "source": []
  }
 ],
 "metadata": {
  "kernelspec": {
   "display_name": "SageMath 9.1",
   "language": "sage",
   "name": "sagemath9"
  },
  "language_info": {
   "codemirror_mode": {
    "name": "ipython",
    "version": 3
   },
   "file_extension": ".py",
   "mimetype": "text/x-python",
   "name": "python",
   "nbconvert_exporter": "python",
   "pygments_lexer": "ipython3",
   "version": "3.7.3"
  }
 },
 "nbformat": 4,
 "nbformat_minor": 4
}
